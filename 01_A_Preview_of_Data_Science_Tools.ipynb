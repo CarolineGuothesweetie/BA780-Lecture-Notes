{
  "nbformat": 4,
  "nbformat_minor": 0,
  "metadata": {
    "kernelspec": {
      "display_name": "Python 3",
      "language": "python",
      "name": "python3"
    },
    "language_info": {
      "codemirror_mode": {
        "name": "ipython",
        "version": 3
      },
      "file_extension": ".py",
      "mimetype": "text/x-python",
      "name": "python",
      "nbconvert_exporter": "python",
      "pygments_lexer": "ipython3",
      "version": "3.7.2"
    },
    "colab": {
      "name": "01-A-Preview-of-Data-Science-Tools.ipynb",
      "provenance": [],
      "include_colab_link": true
    }
  },
  "cells": [
    {
      "cell_type": "markdown",
      "metadata": {
        "id": "view-in-github",
        "colab_type": "text"
      },
      "source": [
        "<a href=\"https://colab.research.google.com/github/CarolineGuothesweetie/BA780-Lecture-Notes/blob/main/01_A_Preview_of_Data_Science_Tools.ipynb\" target=\"_parent\"><img src=\"https://colab.research.google.com/assets/colab-badge.svg\" alt=\"Open In Colab\"/></a>"
      ]
    },
    {
      "cell_type": "markdown",
      "metadata": {
        "id": "Q-QEj7wPvEHy"
      },
      "source": [
        "# A Preview of Data Science Tools"
      ]
    },
    {
      "cell_type": "markdown",
      "metadata": {
        "id": "52pVkXgNvEH2"
      },
      "source": [
        "If you would like to spring from here and go farther in using Python for scientific computing or data science, there are a few packages that will make your life much easier.\n",
        "This section will introduce and preview some of the most important ones, and give you an idea of the types of applications they are designed for.\n",
        "If you're using the *Anaconda* or *Miniconda* environment suggested at the beginning of this class, you can install the relevant packages with the following command:\n",
        "```\n",
        "$ conda install numpy scipy pandas matplotlib scikit-learn\n",
        "```\n",
        "\n",
        "If you are using Google Colab there is a good chance that all of these packaes were already pre-installed.\n",
        "\n",
        "Let's take a brief look at each of these in turn."
      ]
    },
    {
      "cell_type": "markdown",
      "metadata": {
        "id": "IZgN4peTvEH3"
      },
      "source": [
        "## NumPy: Numerical Python\n",
        "\n",
        "NumPy provides an efficient way to store and manipulate multi-dimensional dense arrays in Python.\n",
        "The important features of NumPy are:\n",
        "\n",
        "- It provides an ``ndarray`` structure, which allows efficient storage and manipulation of vectors, matrices, and higher-dimensional datasets.\n",
        "- It provides a readable and efficient syntax for operating on this data, from simple element-wise arithmetic to more complicated linear algebraic operations.\n",
        "\n",
        "In the simplest case, NumPy arrays look a lot like Python lists.\n",
        "For example, here is an array containing the range of numbers 1 to 9 (compare this with Python's built-in ``range()``):"
      ]
    },
    {
      "cell_type": "code",
      "metadata": {
        "id": "oi5sozwpvEH3",
        "colab": {
          "base_uri": "https://localhost:8080/"
        },
        "outputId": "320d6edd-5fad-44fe-ec5e-e228a011bf3a"
      },
      "source": [
        "import numpy as np\n",
        "x = np.arange(1, 10)\n",
        "x"
      ],
      "execution_count": 1,
      "outputs": [
        {
          "output_type": "execute_result",
          "data": {
            "text/plain": [
              "array([1, 2, 3, 4, 5, 6, 7, 8, 9])"
            ]
          },
          "metadata": {},
          "execution_count": 1
        }
      ]
    },
    {
      "cell_type": "markdown",
      "metadata": {
        "id": "UeElLfi1vEH5"
      },
      "source": [
        "NumPy's arrays offer both efficient storage of data, as well as efficient element-wise operations on the data.\n",
        "For example, to square each element of the array, we can apply the \"``**``\" operator to the array directly:"
      ]
    },
    {
      "cell_type": "code",
      "metadata": {
        "id": "YiFzVJxuvEH6",
        "colab": {
          "base_uri": "https://localhost:8080/"
        },
        "outputId": "84be9202-2d15-4d28-e365-5a89296ec6b6"
      },
      "source": [
        "x ** 2 #power"
      ],
      "execution_count": 2,
      "outputs": [
        {
          "output_type": "execute_result",
          "data": {
            "text/plain": [
              "array([ 1,  4,  9, 16, 25, 36, 49, 64, 81])"
            ]
          },
          "metadata": {},
          "execution_count": 2
        }
      ]
    },
    {
      "cell_type": "markdown",
      "metadata": {
        "id": "YSkH9Lv2vEH7"
      },
      "source": [
        "Compare this with the much more verbose Python-style list comprehension for the same result:"
      ]
    },
    {
      "cell_type": "code",
      "metadata": {
        "id": "geGlVa4OvEH8",
        "outputId": "c03938f5-77ca-468e-a083-61584a342aed"
      },
      "source": [
        "[val ** 2 for val in range(1, 10)]"
      ],
      "execution_count": null,
      "outputs": [
        {
          "data": {
            "text/plain": [
              "[1, 4, 9, 16, 25, 36, 49, 64, 81]"
            ]
          },
          "execution_count": 3,
          "metadata": {},
          "output_type": "execute_result"
        }
      ]
    },
    {
      "cell_type": "markdown",
      "metadata": {
        "id": "u1EjbB_WvEH8"
      },
      "source": [
        "Unlike Python lists (which are limited to one dimension), NumPy arrays can be multi-dimensional.\n",
        "For example, here we will reshape our ``x`` array into a two-dimensional 3x3 array:"
      ]
    },
    {
      "cell_type": "code",
      "metadata": {
        "colab": {
          "base_uri": "https://localhost:8080/"
        },
        "id": "gyzuupBZv-e6",
        "outputId": "c1f3bee0-d8cd-4585-a167-98d268f6ce42"
      },
      "source": [
        "%%timeit\n",
        "x = np.arange(1, 1000000)\n",
        "x2 = x ** 2"
      ],
      "execution_count": 4,
      "outputs": [
        {
          "output_type": "stream",
          "name": "stdout",
          "text": [
            "The slowest run took 4.29 times longer than the fastest. This could mean that an intermediate result is being cached.\n",
            "100 loops, best of 5: 2.78 ms per loop\n"
          ]
        }
      ]
    },
    {
      "cell_type": "code",
      "metadata": {
        "colab": {
          "base_uri": "https://localhost:8080/"
        },
        "id": "M1KDQ6WtwrPs",
        "outputId": "4ca0fb15-74e4-46b8-9a00-3c004e56b251"
      },
      "source": [
        "%%timeit\n",
        "x2p = [val ** 2 for val in range(1, 1000000)]"
      ],
      "execution_count": 5,
      "outputs": [
        {
          "output_type": "stream",
          "name": "stdout",
          "text": [
            "1 loop, best of 5: 298 ms per loop\n"
          ]
        }
      ]
    },
    {
      "cell_type": "code",
      "metadata": {
        "id": "UiQPVXduvEH9",
        "colab": {
          "base_uri": "https://localhost:8080/"
        },
        "outputId": "d4c195e4-33b2-4fe9-eddc-f1eb7dad714c"
      },
      "source": [
        "M = x.reshape((3, 3)) # plz give me a matrix of 3 by 3 :)\n",
        "M"
      ],
      "execution_count": 6,
      "outputs": [
        {
          "output_type": "execute_result",
          "data": {
            "text/plain": [
              "array([[1, 2, 3],\n",
              "       [4, 5, 6],\n",
              "       [7, 8, 9]])"
            ]
          },
          "metadata": {},
          "execution_count": 6
        }
      ]
    },
    {
      "cell_type": "markdown",
      "metadata": {
        "id": "OCywuOUMvEH-"
      },
      "source": [
        "A two-dimensional array is one representation of a matrix, and NumPy knows how to efficiently do typical matrix operations. For example, you can compute the transpose using ``.T``:"
      ]
    },
    {
      "cell_type": "code",
      "metadata": {
        "id": "I3yhyu5dvEH-",
        "outputId": "c81f6279-17e5-47e8-ab7e-a3a2bc4c2944"
      },
      "source": [
        "M.T # 转置"
      ],
      "execution_count": null,
      "outputs": [
        {
          "data": {
            "text/plain": [
              "array([[1, 4, 7],\n",
              "       [2, 5, 8],\n",
              "       [3, 6, 9]])"
            ]
          },
          "execution_count": 5,
          "metadata": {},
          "output_type": "execute_result"
        }
      ]
    },
    {
      "cell_type": "markdown",
      "metadata": {
        "id": "nd7SjlFZvEH-"
      },
      "source": [
        "or a matrix-vector product using ``np.dot``:"
      ]
    },
    {
      "cell_type": "code",
      "metadata": {
        "id": "AjYBjblMvEH_",
        "outputId": "4f7ce94d-3dd0-44bb-ea5e-07c0d9a49465"
      },
      "source": [
        "np.dot(M, [5, 6, 7])"
      ],
      "execution_count": null,
      "outputs": [
        {
          "data": {
            "text/plain": [
              "array([ 38,  92, 146])"
            ]
          },
          "execution_count": 6,
          "metadata": {},
          "output_type": "execute_result"
        }
      ]
    },
    {
      "cell_type": "markdown",
      "metadata": {
        "id": "H7Ypw6hOvEH_"
      },
      "source": [
        "and even more sophisticated operations like eigenvalue decomposition:"
      ]
    },
    {
      "cell_type": "code",
      "metadata": {
        "id": "QpT8bPcMvEIA",
        "outputId": "99aee82c-373d-4675-d0c1-bfa23c2f52bf"
      },
      "source": [
        "np.linalg.eigvals(M)"
      ],
      "execution_count": null,
      "outputs": [
        {
          "data": {
            "text/plain": [
              "array([ 1.61168440e+01, -1.11684397e+00, -9.75918483e-16])"
            ]
          },
          "execution_count": 7,
          "metadata": {},
          "output_type": "execute_result"
        }
      ]
    },
    {
      "cell_type": "markdown",
      "metadata": {
        "id": "qMxRP08uvEIA"
      },
      "source": [
        "Such linear algebraic manipulation underpins much of modern data analysis, particularly when it comes to the fields of machine learning and data mining."
      ]
    },
    {
      "cell_type": "markdown",
      "metadata": {
        "id": "TGZZnHCmvEIA"
      },
      "source": [
        "## Pandas: Labeled Column-oriented Data\n",
        "\n",
        "Pandas is a much newer package than NumPy, and is in fact built on top of it.\n",
        "What Pandas provides is a labeled interface to multi-dimensional data, in the form of a DataFrame object that will feel very familiar to users of R, Excel, and related languages.\n",
        "DataFrames in Pandas look something like this:"
      ]
    },
    {
      "cell_type": "code",
      "metadata": {
        "id": "htQQmyArvEIB",
        "colab": {
          "base_uri": "https://localhost:8080/",
          "height": 235
        },
        "outputId": "aa4c8685-4d67-4917-d891-f967b4fc768b"
      },
      "source": [
        "import pandas as pd\n",
        "df = pd.DataFrame({'col1': ['A', 'B', 'C', 'A', 'B', 'C'],\n",
        "                   'col2': [1, 2, 3, 4, 5, 6]})\n",
        "df"
      ],
      "execution_count": 7,
      "outputs": [
        {
          "output_type": "execute_result",
          "data": {
            "text/html": [
              "<div>\n",
              "<style scoped>\n",
              "    .dataframe tbody tr th:only-of-type {\n",
              "        vertical-align: middle;\n",
              "    }\n",
              "\n",
              "    .dataframe tbody tr th {\n",
              "        vertical-align: top;\n",
              "    }\n",
              "\n",
              "    .dataframe thead th {\n",
              "        text-align: right;\n",
              "    }\n",
              "</style>\n",
              "<table border=\"1\" class=\"dataframe\">\n",
              "  <thead>\n",
              "    <tr style=\"text-align: right;\">\n",
              "      <th></th>\n",
              "      <th>col1</th>\n",
              "      <th>col2</th>\n",
              "    </tr>\n",
              "  </thead>\n",
              "  <tbody>\n",
              "    <tr>\n",
              "      <th>0</th>\n",
              "      <td>A</td>\n",
              "      <td>1</td>\n",
              "    </tr>\n",
              "    <tr>\n",
              "      <th>1</th>\n",
              "      <td>B</td>\n",
              "      <td>2</td>\n",
              "    </tr>\n",
              "    <tr>\n",
              "      <th>2</th>\n",
              "      <td>C</td>\n",
              "      <td>3</td>\n",
              "    </tr>\n",
              "    <tr>\n",
              "      <th>3</th>\n",
              "      <td>A</td>\n",
              "      <td>4</td>\n",
              "    </tr>\n",
              "    <tr>\n",
              "      <th>4</th>\n",
              "      <td>B</td>\n",
              "      <td>5</td>\n",
              "    </tr>\n",
              "    <tr>\n",
              "      <th>5</th>\n",
              "      <td>C</td>\n",
              "      <td>6</td>\n",
              "    </tr>\n",
              "  </tbody>\n",
              "</table>\n",
              "</div>"
            ],
            "text/plain": [
              "  col1  col2\n",
              "0    A     1\n",
              "1    B     2\n",
              "2    C     3\n",
              "3    A     4\n",
              "4    B     5\n",
              "5    C     6"
            ]
          },
          "metadata": {},
          "execution_count": 7
        }
      ]
    },
    {
      "cell_type": "markdown",
      "metadata": {
        "id": "dxFkmFWOvEIB"
      },
      "source": [
        "The Pandas interface allows you to do things like select columns by name:"
      ]
    },
    {
      "cell_type": "code",
      "metadata": {
        "id": "zuBtLobzyou4"
      },
      "source": [
        "#pd.DataFrame"
      ],
      "execution_count": null,
      "outputs": []
    },
    {
      "cell_type": "code",
      "metadata": {
        "id": "zITgy9FyvEIC",
        "outputId": "cfc98cb2-c713-4b4d-b782-aeb0cd7595b8"
      },
      "source": [
        "# first way to grab one of the columns\n",
        "df['col1']"
      ],
      "execution_count": null,
      "outputs": [
        {
          "data": {
            "text/plain": [
              "0    A\n",
              "1    B\n",
              "2    C\n",
              "3    A\n",
              "4    B\n",
              "5    C\n",
              "Name: col1, dtype: object"
            ]
          },
          "execution_count": 9,
          "metadata": {},
          "output_type": "execute_result"
        }
      ]
    },
    {
      "cell_type": "code",
      "metadata": {
        "colab": {
          "base_uri": "https://localhost:8080/"
        },
        "id": "a5S-mbY-zRvt",
        "outputId": "9f49c491-d1c3-41c7-8b4d-101fc02f3434"
      },
      "source": [
        "type(df['col1']) #panda series"
      ],
      "execution_count": 8,
      "outputs": [
        {
          "output_type": "execute_result",
          "data": {
            "text/plain": [
              "pandas.core.series.Series"
            ]
          },
          "metadata": {},
          "execution_count": 8
        }
      ]
    },
    {
      "cell_type": "code",
      "metadata": {
        "colab": {
          "base_uri": "https://localhost:8080/"
        },
        "id": "2SI9X9uqzYjL",
        "outputId": "0f0522f3-66f6-461b-f079-65d3f58b92a1"
      },
      "source": [
        "df['col1'].values"
      ],
      "execution_count": 9,
      "outputs": [
        {
          "output_type": "execute_result",
          "data": {
            "text/plain": [
              "array(['A', 'B', 'C', 'A', 'B', 'C'], dtype=object)"
            ]
          },
          "metadata": {},
          "execution_count": 9
        }
      ]
    },
    {
      "cell_type": "code",
      "metadata": {
        "colab": {
          "base_uri": "https://localhost:8080/"
        },
        "id": "nSHdgdZlzmlZ",
        "outputId": "c408517e-795e-4b77-a2e3-c55bd0d6c731"
      },
      "source": [
        "df['col1'].index"
      ],
      "execution_count": 10,
      "outputs": [
        {
          "output_type": "execute_result",
          "data": {
            "text/plain": [
              "RangeIndex(start=0, stop=6, step=1)"
            ]
          },
          "metadata": {},
          "execution_count": 10
        }
      ]
    },
    {
      "cell_type": "code",
      "metadata": {
        "colab": {
          "base_uri": "https://localhost:8080/"
        },
        "id": "85F61lLWz3-y",
        "outputId": "fac6d56e-c606-43ce-a9dc-e430bd5e12db"
      },
      "source": [
        "# second way to grab one of the columns <- only useful when there exsits no special characters like space \n",
        "df.col1"
      ],
      "execution_count": 11,
      "outputs": [
        {
          "output_type": "execute_result",
          "data": {
            "text/plain": [
              "0    A\n",
              "1    B\n",
              "2    C\n",
              "3    A\n",
              "4    B\n",
              "5    C\n",
              "Name: col1, dtype: object"
            ]
          },
          "metadata": {},
          "execution_count": 11
        }
      ]
    },
    {
      "cell_type": "code",
      "metadata": {
        "colab": {
          "base_uri": "https://localhost:8080/",
          "height": 297
        },
        "id": "d8AToPlp0Plh",
        "outputId": "4ebffe2d-aa68-46bd-e195-ae4c794828fc"
      },
      "source": [
        "df.describe()"
      ],
      "execution_count": 17,
      "outputs": [
        {
          "output_type": "execute_result",
          "data": {
            "text/html": [
              "<div>\n",
              "<style scoped>\n",
              "    .dataframe tbody tr th:only-of-type {\n",
              "        vertical-align: middle;\n",
              "    }\n",
              "\n",
              "    .dataframe tbody tr th {\n",
              "        vertical-align: top;\n",
              "    }\n",
              "\n",
              "    .dataframe thead th {\n",
              "        text-align: right;\n",
              "    }\n",
              "</style>\n",
              "<table border=\"1\" class=\"dataframe\">\n",
              "  <thead>\n",
              "    <tr style=\"text-align: right;\">\n",
              "      <th></th>\n",
              "      <th>col2</th>\n",
              "    </tr>\n",
              "  </thead>\n",
              "  <tbody>\n",
              "    <tr>\n",
              "      <th>count</th>\n",
              "      <td>6.000000</td>\n",
              "    </tr>\n",
              "    <tr>\n",
              "      <th>mean</th>\n",
              "      <td>3.500000</td>\n",
              "    </tr>\n",
              "    <tr>\n",
              "      <th>std</th>\n",
              "      <td>1.870829</td>\n",
              "    </tr>\n",
              "    <tr>\n",
              "      <th>min</th>\n",
              "      <td>1.000000</td>\n",
              "    </tr>\n",
              "    <tr>\n",
              "      <th>25%</th>\n",
              "      <td>2.250000</td>\n",
              "    </tr>\n",
              "    <tr>\n",
              "      <th>50%</th>\n",
              "      <td>3.500000</td>\n",
              "    </tr>\n",
              "    <tr>\n",
              "      <th>75%</th>\n",
              "      <td>4.750000</td>\n",
              "    </tr>\n",
              "    <tr>\n",
              "      <th>max</th>\n",
              "      <td>6.000000</td>\n",
              "    </tr>\n",
              "  </tbody>\n",
              "</table>\n",
              "</div>"
            ],
            "text/plain": [
              "           col2\n",
              "count  6.000000\n",
              "mean   3.500000\n",
              "std    1.870829\n",
              "min    1.000000\n",
              "25%    2.250000\n",
              "50%    3.500000\n",
              "75%    4.750000\n",
              "max    6.000000"
            ]
          },
          "metadata": {},
          "execution_count": 17
        }
      ]
    },
    {
      "cell_type": "code",
      "metadata": {
        "colab": {
          "base_uri": "https://localhost:8080/"
        },
        "id": "wXkXNHSx0FZV",
        "outputId": "32803bb9-c994-4cef-86c9-282d35d1fa56"
      },
      "source": [
        "df.shape"
      ],
      "execution_count": 14,
      "outputs": [
        {
          "output_type": "execute_result",
          "data": {
            "text/plain": [
              "(6, 2)"
            ]
          },
          "metadata": {},
          "execution_count": 14
        }
      ]
    },
    {
      "cell_type": "markdown",
      "metadata": {
        "id": "WAryj5k2vEID"
      },
      "source": [
        "Apply string operations across string entries:"
      ]
    },
    {
      "cell_type": "code",
      "metadata": {
        "id": "E4aMprZGvEID",
        "colab": {
          "base_uri": "https://localhost:8080/"
        },
        "outputId": "4053a296-2027-492a-8036-e9e5e30d0372"
      },
      "source": [
        "df['col1'].str.lower()"
      ],
      "execution_count": 18,
      "outputs": [
        {
          "output_type": "execute_result",
          "data": {
            "text/plain": [
              "0    a\n",
              "1    b\n",
              "2    c\n",
              "3    a\n",
              "4    b\n",
              "5    c\n",
              "Name: col1, dtype: object"
            ]
          },
          "metadata": {},
          "execution_count": 18
        }
      ]
    },
    {
      "cell_type": "markdown",
      "metadata": {
        "id": "T7q8vpuKvEIE"
      },
      "source": [
        "Apply aggregates across numerical entries:"
      ]
    },
    {
      "cell_type": "code",
      "metadata": {
        "id": "4N-BH61vvEIE",
        "colab": {
          "base_uri": "https://localhost:8080/"
        },
        "outputId": "4bffa6f0-aff9-4fc4-965b-c4cf5b275f8f"
      },
      "source": [
        "df['col2'].sum()"
      ],
      "execution_count": 19,
      "outputs": [
        {
          "output_type": "execute_result",
          "data": {
            "text/plain": [
              "21"
            ]
          },
          "metadata": {},
          "execution_count": 19
        }
      ]
    },
    {
      "cell_type": "markdown",
      "metadata": {
        "id": "uzf0_RlhvEIF"
      },
      "source": [
        "And, perhaps most importantly, do efficient database-style joins and groupings:"
      ]
    },
    {
      "cell_type": "code",
      "metadata": {
        "id": "LEdx-uONvEIF",
        "colab": {
          "base_uri": "https://localhost:8080/",
          "height": 173
        },
        "outputId": "4fa8ce83-d841-4f0c-b45a-6d7502f3b787"
      },
      "source": [
        "df.groupby('col1').sum()"
      ],
      "execution_count": 20,
      "outputs": [
        {
          "output_type": "execute_result",
          "data": {
            "text/html": [
              "<div>\n",
              "<style scoped>\n",
              "    .dataframe tbody tr th:only-of-type {\n",
              "        vertical-align: middle;\n",
              "    }\n",
              "\n",
              "    .dataframe tbody tr th {\n",
              "        vertical-align: top;\n",
              "    }\n",
              "\n",
              "    .dataframe thead th {\n",
              "        text-align: right;\n",
              "    }\n",
              "</style>\n",
              "<table border=\"1\" class=\"dataframe\">\n",
              "  <thead>\n",
              "    <tr style=\"text-align: right;\">\n",
              "      <th></th>\n",
              "      <th>col2</th>\n",
              "    </tr>\n",
              "    <tr>\n",
              "      <th>col1</th>\n",
              "      <th></th>\n",
              "    </tr>\n",
              "  </thead>\n",
              "  <tbody>\n",
              "    <tr>\n",
              "      <th>A</th>\n",
              "      <td>5</td>\n",
              "    </tr>\n",
              "    <tr>\n",
              "      <th>B</th>\n",
              "      <td>7</td>\n",
              "    </tr>\n",
              "    <tr>\n",
              "      <th>C</th>\n",
              "      <td>9</td>\n",
              "    </tr>\n",
              "  </tbody>\n",
              "</table>\n",
              "</div>"
            ],
            "text/plain": [
              "      col2\n",
              "col1      \n",
              "A        5\n",
              "B        7\n",
              "C        9"
            ]
          },
          "metadata": {},
          "execution_count": 20
        }
      ]
    },
    {
      "cell_type": "markdown",
      "metadata": {
        "id": "w-x9YrPrvEIG"
      },
      "source": [
        "Here in one line we have computed the sum of all objects sharing the same label, something that is much more verbose (and much less efficient) using tools provided in Numpy and core Python."
      ]
    },
    {
      "cell_type": "markdown",
      "metadata": {
        "id": "PnI1sX2jvEIG"
      },
      "source": [
        "## Matplotlib MatLab-style scientific visualization\n",
        "\n",
        "Matplotlib is one of the most popular scientific visualization packages in Python.\n",
        "Even proponents admit that its interface is sometimes overly verbose, but it is a powerful library for creating a large range of plots.\n",
        "\n",
        "To use Matplotlib, we can start by enabling the notebook mode (for use in the Jupyter notebook) and then importing the package as ``plt``\"\n",
        "\n",
        "- ``%matplotlib inline`` will lead to *static* images of your plot embedded in the notebook"
      ]
    },
    {
      "cell_type": "code",
      "metadata": {
        "id": "NhPae5yj3MeX"
      },
      "source": [
        "import numpy as np\n",
        "import pandas as pd"
      ],
      "execution_count": 26,
      "outputs": []
    },
    {
      "cell_type": "code",
      "metadata": {
        "id": "SKd4k0qNvEIH"
      },
      "source": [
        "%matplotlib inline\n",
        "import matplotlib.pyplot as plt\n",
        "plt.style.use('ggplot')  # make graphs in the style of R's ggplot"
      ],
      "execution_count": 23,
      "outputs": []
    },
    {
      "cell_type": "markdown",
      "metadata": {
        "id": "p0WraPlZvEIH"
      },
      "source": [
        "Now let's create some data (as NumPy arrays, of course) and plot the results:"
      ]
    },
    {
      "cell_type": "code",
      "metadata": {
        "id": "RSFPawLl28I3"
      },
      "source": [
        "x = np.linspace(1,100)"
      ],
      "execution_count": 28,
      "outputs": []
    },
    {
      "cell_type": "code",
      "metadata": {
        "colab": {
          "base_uri": "https://localhost:8080/",
          "height": 282
        },
        "id": "FoYIetSs3Eb_",
        "outputId": "8c6d116f-7883-4f9a-9c6d-e763ec07ff2d"
      },
      "source": [
        "plt.plot(x,x)"
      ],
      "execution_count": 29,
      "outputs": [
        {
          "output_type": "execute_result",
          "data": {
            "text/plain": [
              "[<matplotlib.lines.Line2D at 0x7ff731400150>]"
            ]
          },
          "metadata": {},
          "execution_count": 29
        },
        {
          "output_type": "display_data",
          "data": {
            "image/png": "[encoded data removed]",
            "text/plain": [
              "<Figure size 432x288 with 1 Axes>"
            ]
          },
          "metadata": {}
        }
      ]
    },
    {
      "cell_type": "code",
      "metadata": {
        "id": "9P3txT-rvEIH",
        "colab": {
          "base_uri": "https://localhost:8080/",
          "height": 265
        },
        "outputId": "bd72ad57-c528-480d-eacd-aa6d6927e482"
      },
      "source": [
        "x = np.linspace(0, 10)  # range of 50 values from 0 to 10\n",
        "plt.plot(x, np.sin(x - 0));         # plot as a line\n",
        "plt.plot(x, np.sin(x - 1));     # plot as a line\n",
        "plt.plot(x, np.sin(x - 2));     # plot as a line"
      ],
      "execution_count": 24,
      "outputs": [
        {
          "output_type": "display_data",
          "data": {
            "image/png": "[encoded data removed]",
            "text/plain": [
              "<Figure size 432x288 with 1 Axes>"
            ]
          },
          "metadata": {}
        }
      ]
    },
    {
      "cell_type": "markdown",
      "metadata": {
        "id": "W0T7L7MgvEIH"
      },
      "source": [
        "### Matplotlib method on pandas DataFrame\n",
        "\n",
        "It is also possible to create a plot directly from a pandas dataframe. For instance, below we create a chart off of our synthetic DataFrame `df`:"
      ]
    },
    {
      "cell_type": "code",
      "metadata": {
        "id": "l44k6-is3xLr"
      },
      "source": [
        "# plot in time series"
      ],
      "execution_count": null,
      "outputs": []
    },
    {
      "cell_type": "code",
      "metadata": {
        "colab": {
          "base_uri": "https://localhost:8080/"
        },
        "id": "7iWlTa7y4APi",
        "outputId": "da41582d-b206-4ebf-b223-af58421c5e56"
      },
      "source": [
        "np.random.randn(10, 2)"
      ],
      "execution_count": 30,
      "outputs": [
        {
          "output_type": "execute_result",
          "data": {
            "text/plain": [
              "array([[ 0.56247662,  1.93687675],\n",
              "       [ 0.55620191,  0.50215912],\n",
              "       [ 1.19802736,  0.50053994],\n",
              "       [-0.75163395, -1.55190072],\n",
              "       [ 0.2971829 ,  1.3009188 ],\n",
              "       [-0.49467237, -0.14904616],\n",
              "       [-0.49820852,  0.06844577],\n",
              "       [-0.48894542, -0.62192717],\n",
              "       [-0.50214196, -0.86854126],\n",
              "       [ 0.85239729, -0.03151848]])"
            ]
          },
          "metadata": {},
          "execution_count": 30
        }
      ]
    },
    {
      "cell_type": "code",
      "metadata": {
        "colab": {
          "base_uri": "https://localhost:8080/",
          "height": 419
        },
        "id": "N2mlkzIN4QoZ",
        "outputId": "9fdb0171-1a82-408a-f1de-d0bebd9f9e3b"
      },
      "source": [
        "df = pd.DataFrame(np.random.randn(1000, 4),\n",
        "                   columns=list('ABCD'))\n",
        "df = df.cumsum()\n",
        "df"
      ],
      "execution_count": 32,
      "outputs": [
        {
          "output_type": "execute_result",
          "data": {
            "text/html": [
              "<div>\n",
              "<style scoped>\n",
              "    .dataframe tbody tr th:only-of-type {\n",
              "        vertical-align: middle;\n",
              "    }\n",
              "\n",
              "    .dataframe tbody tr th {\n",
              "        vertical-align: top;\n",
              "    }\n",
              "\n",
              "    .dataframe thead th {\n",
              "        text-align: right;\n",
              "    }\n",
              "</style>\n",
              "<table border=\"1\" class=\"dataframe\">\n",
              "  <thead>\n",
              "    <tr style=\"text-align: right;\">\n",
              "      <th></th>\n",
              "      <th>A</th>\n",
              "      <th>B</th>\n",
              "      <th>C</th>\n",
              "      <th>D</th>\n",
              "    </tr>\n",
              "  </thead>\n",
              "  <tbody>\n",
              "    <tr>\n",
              "      <th>0</th>\n",
              "      <td>-1.717018</td>\n",
              "      <td>1.769812</td>\n",
              "      <td>-0.570434</td>\n",
              "      <td>-0.580309</td>\n",
              "    </tr>\n",
              "    <tr>\n",
              "      <th>1</th>\n",
              "      <td>-1.580444</td>\n",
              "      <td>1.390876</td>\n",
              "      <td>-0.605689</td>\n",
              "      <td>1.203585</td>\n",
              "    </tr>\n",
              "    <tr>\n",
              "      <th>2</th>\n",
              "      <td>-0.642181</td>\n",
              "      <td>2.427250</td>\n",
              "      <td>-1.496297</td>\n",
              "      <td>1.101573</td>\n",
              "    </tr>\n",
              "    <tr>\n",
              "      <th>3</th>\n",
              "      <td>-0.617478</td>\n",
              "      <td>1.058303</td>\n",
              "      <td>-1.305817</td>\n",
              "      <td>1.456816</td>\n",
              "    </tr>\n",
              "    <tr>\n",
              "      <th>4</th>\n",
              "      <td>-2.346479</td>\n",
              "      <td>1.611619</td>\n",
              "      <td>-1.072091</td>\n",
              "      <td>0.670566</td>\n",
              "    </tr>\n",
              "    <tr>\n",
              "      <th>...</th>\n",
              "      <td>...</td>\n",
              "      <td>...</td>\n",
              "      <td>...</td>\n",
              "      <td>...</td>\n",
              "    </tr>\n",
              "    <tr>\n",
              "      <th>995</th>\n",
              "      <td>5.110057</td>\n",
              "      <td>-81.348889</td>\n",
              "      <td>3.710962</td>\n",
              "      <td>41.632083</td>\n",
              "    </tr>\n",
              "    <tr>\n",
              "      <th>996</th>\n",
              "      <td>5.577556</td>\n",
              "      <td>-81.149587</td>\n",
              "      <td>4.652210</td>\n",
              "      <td>39.716667</td>\n",
              "    </tr>\n",
              "    <tr>\n",
              "      <th>997</th>\n",
              "      <td>3.991687</td>\n",
              "      <td>-80.970309</td>\n",
              "      <td>4.402051</td>\n",
              "      <td>39.301583</td>\n",
              "    </tr>\n",
              "    <tr>\n",
              "      <th>998</th>\n",
              "      <td>4.828518</td>\n",
              "      <td>-81.691428</td>\n",
              "      <td>5.386769</td>\n",
              "      <td>39.393101</td>\n",
              "    </tr>\n",
              "    <tr>\n",
              "      <th>999</th>\n",
              "      <td>4.624446</td>\n",
              "      <td>-80.565125</td>\n",
              "      <td>6.108312</td>\n",
              "      <td>40.305730</td>\n",
              "    </tr>\n",
              "  </tbody>\n",
              "</table>\n",
              "<p>1000 rows × 4 columns</p>\n",
              "</div>"
            ],
            "text/plain": [
              "            A          B         C          D\n",
              "0   -1.717018   1.769812 -0.570434  -0.580309\n",
              "1   -1.580444   1.390876 -0.605689   1.203585\n",
              "2   -0.642181   2.427250 -1.496297   1.101573\n",
              "3   -0.617478   1.058303 -1.305817   1.456816\n",
              "4   -2.346479   1.611619 -1.072091   0.670566\n",
              "..        ...        ...       ...        ...\n",
              "995  5.110057 -81.348889  3.710962  41.632083\n",
              "996  5.577556 -81.149587  4.652210  39.716667\n",
              "997  3.991687 -80.970309  4.402051  39.301583\n",
              "998  4.828518 -81.691428  5.386769  39.393101\n",
              "999  4.624446 -80.565125  6.108312  40.305730\n",
              "\n",
              "[1000 rows x 4 columns]"
            ]
          },
          "metadata": {},
          "execution_count": 32
        }
      ]
    },
    {
      "cell_type": "code",
      "metadata": {
        "id": "mVVZpNlkvEII",
        "colab": {
          "base_uri": "https://localhost:8080/",
          "height": 419
        },
        "outputId": "4d0bebd3-b3e8-4847-ab82-540129b25503"
      },
      "source": [
        "df = pd.DataFrame(np.random.randn(1000, 4),\n",
        "                  index=pd.date_range('7/1/2016', periods=1000), columns=list('ABCD')) # time series data\n",
        "df = df.cumsum()\n",
        "df"
      ],
      "execution_count": 37,
      "outputs": [
        {
          "output_type": "execute_result",
          "data": {
            "text/html": [
              "<div>\n",
              "<style scoped>\n",
              "    .dataframe tbody tr th:only-of-type {\n",
              "        vertical-align: middle;\n",
              "    }\n",
              "\n",
              "    .dataframe tbody tr th {\n",
              "        vertical-align: top;\n",
              "    }\n",
              "\n",
              "    .dataframe thead th {\n",
              "        text-align: right;\n",
              "    }\n",
              "</style>\n",
              "<table border=\"1\" class=\"dataframe\">\n",
              "  <thead>\n",
              "    <tr style=\"text-align: right;\">\n",
              "      <th></th>\n",
              "      <th>A</th>\n",
              "      <th>B</th>\n",
              "      <th>C</th>\n",
              "      <th>D</th>\n",
              "    </tr>\n",
              "  </thead>\n",
              "  <tbody>\n",
              "    <tr>\n",
              "      <th>2016-07-01</th>\n",
              "      <td>0.593584</td>\n",
              "      <td>0.572434</td>\n",
              "      <td>-1.070036</td>\n",
              "      <td>-0.350939</td>\n",
              "    </tr>\n",
              "    <tr>\n",
              "      <th>2016-07-02</th>\n",
              "      <td>0.340874</td>\n",
              "      <td>0.080262</td>\n",
              "      <td>-3.287722</td>\n",
              "      <td>0.043368</td>\n",
              "    </tr>\n",
              "    <tr>\n",
              "      <th>2016-07-03</th>\n",
              "      <td>-1.861191</td>\n",
              "      <td>-2.630107</td>\n",
              "      <td>-2.023344</td>\n",
              "      <td>1.321222</td>\n",
              "    </tr>\n",
              "    <tr>\n",
              "      <th>2016-07-04</th>\n",
              "      <td>-1.416838</td>\n",
              "      <td>-2.069333</td>\n",
              "      <td>-1.505033</td>\n",
              "      <td>0.647498</td>\n",
              "    </tr>\n",
              "    <tr>\n",
              "      <th>2016-07-05</th>\n",
              "      <td>-1.582980</td>\n",
              "      <td>-2.015921</td>\n",
              "      <td>-1.767093</td>\n",
              "      <td>2.225301</td>\n",
              "    </tr>\n",
              "    <tr>\n",
              "      <th>...</th>\n",
              "      <td>...</td>\n",
              "      <td>...</td>\n",
              "      <td>...</td>\n",
              "      <td>...</td>\n",
              "    </tr>\n",
              "    <tr>\n",
              "      <th>2019-03-23</th>\n",
              "      <td>-17.747252</td>\n",
              "      <td>15.270944</td>\n",
              "      <td>42.565573</td>\n",
              "      <td>33.091567</td>\n",
              "    </tr>\n",
              "    <tr>\n",
              "      <th>2019-03-24</th>\n",
              "      <td>-18.012763</td>\n",
              "      <td>14.615020</td>\n",
              "      <td>41.592245</td>\n",
              "      <td>33.420478</td>\n",
              "    </tr>\n",
              "    <tr>\n",
              "      <th>2019-03-25</th>\n",
              "      <td>-18.656113</td>\n",
              "      <td>15.963456</td>\n",
              "      <td>40.822536</td>\n",
              "      <td>32.039880</td>\n",
              "    </tr>\n",
              "    <tr>\n",
              "      <th>2019-03-26</th>\n",
              "      <td>-17.904692</td>\n",
              "      <td>16.842756</td>\n",
              "      <td>42.412293</td>\n",
              "      <td>32.319570</td>\n",
              "    </tr>\n",
              "    <tr>\n",
              "      <th>2019-03-27</th>\n",
              "      <td>-18.037938</td>\n",
              "      <td>15.784468</td>\n",
              "      <td>42.406308</td>\n",
              "      <td>32.059809</td>\n",
              "    </tr>\n",
              "  </tbody>\n",
              "</table>\n",
              "<p>1000 rows × 4 columns</p>\n",
              "</div>"
            ],
            "text/plain": [
              "                    A          B          C          D\n",
              "2016-07-01   0.593584   0.572434  -1.070036  -0.350939\n",
              "2016-07-02   0.340874   0.080262  -3.287722   0.043368\n",
              "2016-07-03  -1.861191  -2.630107  -2.023344   1.321222\n",
              "2016-07-04  -1.416838  -2.069333  -1.505033   0.647498\n",
              "2016-07-05  -1.582980  -2.015921  -1.767093   2.225301\n",
              "...               ...        ...        ...        ...\n",
              "2019-03-23 -17.747252  15.270944  42.565573  33.091567\n",
              "2019-03-24 -18.012763  14.615020  41.592245  33.420478\n",
              "2019-03-25 -18.656113  15.963456  40.822536  32.039880\n",
              "2019-03-26 -17.904692  16.842756  42.412293  32.319570\n",
              "2019-03-27 -18.037938  15.784468  42.406308  32.059809\n",
              "\n",
              "[1000 rows x 4 columns]"
            ]
          },
          "metadata": {},
          "execution_count": 37
        }
      ]
    },
    {
      "cell_type": "code",
      "metadata": {
        "id": "f3ylBkiPvEII",
        "colab": {
          "base_uri": "https://localhost:8080/",
          "height": 294
        },
        "outputId": "ec1db3e4-fa56-4edb-8352-9b36fc4c5628"
      },
      "source": [
        "df.plot()"
      ],
      "execution_count": 38,
      "outputs": [
        {
          "output_type": "execute_result",
          "data": {
            "text/plain": [
              "<matplotlib.axes._subplots.AxesSubplot at 0x7ff73037c890>"
            ]
          },
          "metadata": {},
          "execution_count": 38
        },
        {
          "output_type": "display_data",
          "data": {
            "image/png": "[encoded data removed]",
            "text/plain": [
              "<Figure size 432x288 with 1 Axes>"
            ]
          },
          "metadata": {}
        }
      ]
    },
    {
      "cell_type": "markdown",
      "metadata": {
        "id": "F3etd7E2vEII"
      },
      "source": [
        "This is the simplest example of a Matplotlib plot; for ideas on the wide range of plot types available, see [Matplotlib's online gallery](http://matplotlib.org/gallery.html). We will come back to Matplotlib in the future classes."
      ]
    },
    {
      "cell_type": "markdown",
      "metadata": {
        "id": "dI8WYqfRvEII"
      },
      "source": [
        "## Other Data Science Packages\n",
        "\n",
        "Built on top of these tools are a host of other data science packages, including general tools like [Scikit-Learn](http://scikit-learn.org) for machine learning, [Scikit-Image](http://scikit-image.org) for image analysis, and [Statsmodels](http://statsmodels.sourceforge.net/) for statistical modeling, as well as more domain-specific packages like [AstroPy](http://astropy.org) for astronomy and astrophysics, [NiPy](http://nipy.org/) for neuro-imaging, and many, many more.\n",
        "\n",
        "No matter what type of scientific, numerical, or statistical problem you are facing, it's likely there is a Python package out there that can help you solve it."
      ]
    }
  ]
}