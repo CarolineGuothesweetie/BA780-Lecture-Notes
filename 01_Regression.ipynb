{
  "nbformat": 4,
  "nbformat_minor": 0,
  "metadata": {
    "kernelspec": {
      "display_name": "Python 3",
      "language": "python",
      "name": "python3"
    },
    "language_info": {
      "codemirror_mode": {
        "name": "ipython",
        "version": 3
      },
      "file_extension": ".py",
      "mimetype": "text/x-python",
      "name": "python",
      "nbconvert_exporter": "python",
      "pygments_lexer": "ipython3",
      "version": "3.7.2"
    },
    "colab": {
      "name": "01-Regression.ipynb",
      "provenance": [],
      "include_colab_link": true
    }
  },
  "cells": [
    {
      "cell_type": "markdown",
      "metadata": {
        "id": "view-in-github",
        "colab_type": "text"
      },
      "source": [
        "<a href=\"https://colab.research.google.com/github/CarolineGuothesweetie/BA780-Lecture-Notes/blob/main/01_Regression.ipynb\" target=\"_parent\"><img src=\"https://colab.research.google.com/assets/colab-badge.svg\" alt=\"Open In Colab\"/></a>"
      ]
    },
    {
      "cell_type": "markdown",
      "metadata": {
        "deletable": true,
        "editable": true,
        "id": "dP3d0bryoj3_"
      },
      "source": [
        "### Regression: Predicting continuous labels\n",
        "\n",
        "In contrast with the discrete labels of a classification algorithm, we will next look at a simple *regression* task in which the labels are continuous quantities.\n",
        "\n",
        "Consider the data shown in the following figure, which consists of a set of points each with a continuous label:"
      ]
    },
    {
      "cell_type": "markdown",
      "metadata": {
        "deletable": true,
        "editable": true,
        "id": "oH2XQm8Roj4B"
      },
      "source": [
        "\n",
        "<img src=\"https://github.com/soltaniehha/Business-Analytics/blob/master/figs/12-01-regression-1.png?raw=true\" width=\"600\" align=\"center\"/>"
      ]
    },
    {
      "cell_type": "markdown",
      "metadata": {
        "deletable": true,
        "editable": true,
        "id": "4o8v8MyRoj4B"
      },
      "source": [
        "As with the classification example, we have two-dimensional data: that is, there are two features describing each data point.\n",
        "The color of each point represents the continuous label for that point.\n",
        "\n",
        "There are a number of possible regression models we might use for this type of data, but here we will use a simple linear regression to predict the points.\n",
        "This simple linear regression model assumes that if we treat the label as a third spatial dimension, we can fit a plane to the data.\n",
        "This is a higher-level generalization of the well-known problem of fitting a line to data with two coordinates.\n",
        "\n",
        "We can visualize this setup as shown in the following figure:"
      ]
    },
    {
      "cell_type": "markdown",
      "metadata": {
        "deletable": true,
        "editable": true,
        "id": "LWwoVJ8roj4C"
      },
      "source": [
        "\n",
        "<img src=\"https://github.com/soltaniehha/Business-Analytics/blob/master/figs/12-01-regression-2.png?raw=true\" width=\"800\" align=\"center\"/>"
      ]
    },
    {
      "cell_type": "markdown",
      "metadata": {
        "deletable": true,
        "editable": true,
        "id": "Ukxx5qMloj4C"
      },
      "source": [
        "Notice that the *feature 1-feature 2* plane here is the same as in the two-dimensional plot from before; in this case, however, we have represented the labels by both color and three-dimensional axis position.\n",
        "From this view, it seems reasonable that fitting a plane through this three-dimensional data would allow us to predict the expected label for any set of input parameters.\n",
        "Returning to the two-dimensional projection, when we fit such a plane we get the result shown in the following figure:"
      ]
    },
    {
      "cell_type": "markdown",
      "metadata": {
        "deletable": true,
        "editable": true,
        "id": "jvV7EZxdoj4C"
      },
      "source": [
        "\n",
        "<img src=\"https://github.com/soltaniehha/Business-Analytics/blob/master/figs/12-01-regression-3.png?raw=true\" width=\"600\" align=\"center\"/>"
      ]
    },
    {
      "cell_type": "markdown",
      "metadata": {
        "deletable": true,
        "editable": true,
        "id": "OFNfwZoJoj4C"
      },
      "source": [
        "This plane of fit gives us what we need to predict labels for new points.\n",
        "Visually, we find the results shown in the following figure:"
      ]
    },
    {
      "cell_type": "markdown",
      "metadata": {
        "deletable": true,
        "editable": true,
        "id": "OsXaPbH2oj4D"
      },
      "source": [
        "\n",
        "<img src=\"https://github.com/soltaniehha/Business-Analytics/blob/master/figs/12-01-regression-4.png?raw=true\" width=\"900\" align=\"center\"/>"
      ]
    },
    {
      "cell_type": "markdown",
      "metadata": {
        "deletable": true,
        "editable": true,
        "id": "AIaOVJAPoj4D"
      },
      "source": [
        "As with the classification example, this may seem rather trivial in a low number of dimensions.\n",
        "But the power of these methods is that they can be straightforwardly applied and evaluated in the case of data with many, many features.\n",
        "\n",
        "For example, this is similar to the task of computing the apparent temperature (feels like), we might use the following features and labels:\n",
        "\n",
        "- *feature 1*, *feature 2*, etc. $\\to$ temperature, humidity, or wind speed\n",
        "- *label* $\\to$ apparent temperature\n",
        "\n",
        "The apparent temperature for a small number of data points might be determined through an independent set of (typically more expensive) observations.\n",
        "Apparent temperature to remaining data points could then be estimated using a suitable regression model, without the need to employ the more expensive observation across the entire set."
      ]
    },
    {
      "cell_type": "markdown",
      "metadata": {
        "id": "h8SU_8bDoj4E"
      },
      "source": [
        "# Example Linear Regression - Apparent Temperature\n",
        "\n",
        "Goal: predict the apparent temperature from a series of measurements.\n",
        "\n",
        "Data was download from [Kaggle](https://www.kaggle.com/budincsevity/szeged-weather#weatherHistory.csv) and can be loaded directly from the course's GitHub. It includes hourly weather data for Szeged, Hungary area from 2006 to 2016:"
      ]
    },
    {
      "cell_type": "code",
      "metadata": {
        "id": "dtsal-8_oj4E",
        "colab": {
          "base_uri": "https://localhost:8080/",
          "height": 282
        },
        "outputId": "d02bf006-d094-4ca3-c1d2-530c6732b3b2"
      },
      "source": [
        "from IPython.display import Pretty as disp\n",
        "hint = 'https://raw.githubusercontent.com/soltaniehha/Business-Analytics/master/docs/hints/'  # path to hints on GitHub\n",
        "\n",
        "import pandas as pd\n",
        "import seaborn as sns\n",
        "import matplotlib.pyplot as plt\n",
        "\n",
        "sns.set(style=\"white\")\n",
        "df = pd.read_csv('https://raw.githubusercontent.com/soltaniehha/Business-Analytics/master/data/weatherHistory.csv')\n",
        "df.head(3)"
      ],
      "execution_count": 40,
      "outputs": [
        {
          "output_type": "execute_result",
          "data": {
            "text/html": [
              "<div>\n",
              "<style scoped>\n",
              "    .dataframe tbody tr th:only-of-type {\n",
              "        vertical-align: middle;\n",
              "    }\n",
              "\n",
              "    .dataframe tbody tr th {\n",
              "        vertical-align: top;\n",
              "    }\n",
              "\n",
              "    .dataframe thead th {\n",
              "        text-align: right;\n",
              "    }\n",
              "</style>\n",
              "<table border=\"1\" class=\"dataframe\">\n",
              "  <thead>\n",
              "    <tr style=\"text-align: right;\">\n",
              "      <th></th>\n",
              "      <th>Formatted Date</th>\n",
              "      <th>Summary</th>\n",
              "      <th>Precip Type</th>\n",
              "      <th>Temperature (C)</th>\n",
              "      <th>Apparent Temperature (C)</th>\n",
              "      <th>Humidity</th>\n",
              "      <th>Wind Speed (km/h)</th>\n",
              "      <th>Wind Bearing (degrees)</th>\n",
              "      <th>Visibility (km)</th>\n",
              "      <th>Loud Cover</th>\n",
              "      <th>Pressure (millibars)</th>\n",
              "      <th>Daily Summary</th>\n",
              "    </tr>\n",
              "  </thead>\n",
              "  <tbody>\n",
              "    <tr>\n",
              "      <th>0</th>\n",
              "      <td>2006-04-01 00:00:00.000 +0200</td>\n",
              "      <td>Partly Cloudy</td>\n",
              "      <td>rain</td>\n",
              "      <td>9.472222</td>\n",
              "      <td>7.388889</td>\n",
              "      <td>0.89</td>\n",
              "      <td>14.1197</td>\n",
              "      <td>251.0</td>\n",
              "      <td>15.8263</td>\n",
              "      <td>0.0</td>\n",
              "      <td>1015.13</td>\n",
              "      <td>Partly cloudy throughout the day.</td>\n",
              "    </tr>\n",
              "    <tr>\n",
              "      <th>1</th>\n",
              "      <td>2006-04-01 01:00:00.000 +0200</td>\n",
              "      <td>Partly Cloudy</td>\n",
              "      <td>rain</td>\n",
              "      <td>9.355556</td>\n",
              "      <td>7.227778</td>\n",
              "      <td>0.86</td>\n",
              "      <td>14.2646</td>\n",
              "      <td>259.0</td>\n",
              "      <td>15.8263</td>\n",
              "      <td>0.0</td>\n",
              "      <td>1015.63</td>\n",
              "      <td>Partly cloudy throughout the day.</td>\n",
              "    </tr>\n",
              "    <tr>\n",
              "      <th>2</th>\n",
              "      <td>2006-04-01 02:00:00.000 +0200</td>\n",
              "      <td>Mostly Cloudy</td>\n",
              "      <td>rain</td>\n",
              "      <td>9.377778</td>\n",
              "      <td>9.377778</td>\n",
              "      <td>0.89</td>\n",
              "      <td>3.9284</td>\n",
              "      <td>204.0</td>\n",
              "      <td>14.9569</td>\n",
              "      <td>0.0</td>\n",
              "      <td>1015.94</td>\n",
              "      <td>Partly cloudy throughout the day.</td>\n",
              "    </tr>\n",
              "  </tbody>\n",
              "</table>\n",
              "</div>"
            ],
            "text/plain": [
              "                  Formatted Date  ...                      Daily Summary\n",
              "0  2006-04-01 00:00:00.000 +0200  ...  Partly cloudy throughout the day.\n",
              "1  2006-04-01 01:00:00.000 +0200  ...  Partly cloudy throughout the day.\n",
              "2  2006-04-01 02:00:00.000 +0200  ...  Partly cloudy throughout the day.\n",
              "\n",
              "[3 rows x 12 columns]"
            ]
          },
          "metadata": {},
          "execution_count": 40
        }
      ]
    },
    {
      "cell_type": "code",
      "metadata": {
        "id": "N27gMMW0oj4F",
        "colab": {
          "base_uri": "https://localhost:8080/"
        },
        "outputId": "8672a87b-35be-476e-c23e-4bd4fe868515"
      },
      "source": [
        "df.info()"
      ],
      "execution_count": 41,
      "outputs": [
        {
          "output_type": "stream",
          "name": "stdout",
          "text": [
            "<class 'pandas.core.frame.DataFrame'>\n",
            "RangeIndex: 96453 entries, 0 to 96452\n",
            "Data columns (total 12 columns):\n",
            " #   Column                    Non-Null Count  Dtype  \n",
            "---  ------                    --------------  -----  \n",
            " 0   Formatted Date            96453 non-null  object \n",
            " 1   Summary                   96453 non-null  object \n",
            " 2   Precip Type               95936 non-null  object \n",
            " 3   Temperature (C)           96453 non-null  float64\n",
            " 4   Apparent Temperature (C)  96453 non-null  float64\n",
            " 5   Humidity                  96453 non-null  float64\n",
            " 6   Wind Speed (km/h)         96453 non-null  float64\n",
            " 7   Wind Bearing (degrees)    96453 non-null  float64\n",
            " 8   Visibility (km)           96453 non-null  float64\n",
            " 9   Loud Cover                96453 non-null  float64\n",
            " 10  Pressure (millibars)      96453 non-null  float64\n",
            " 11  Daily Summary             96453 non-null  object \n",
            "dtypes: float64(8), object(4)\n",
            "memory usage: 8.8+ MB\n"
          ]
        }
      ]
    },
    {
      "cell_type": "code",
      "metadata": {
        "colab": {
          "base_uri": "https://localhost:8080/"
        },
        "id": "N8BkuM4jqzYM",
        "outputId": "64a10614-b49b-4097-a0c3-c4e64d023bfa"
      },
      "source": [
        "df.isna().sum()"
      ],
      "execution_count": 42,
      "outputs": [
        {
          "output_type": "execute_result",
          "data": {
            "text/plain": [
              "Formatted Date                0\n",
              "Summary                       0\n",
              "Precip Type                 517\n",
              "Temperature (C)               0\n",
              "Apparent Temperature (C)      0\n",
              "Humidity                      0\n",
              "Wind Speed (km/h)             0\n",
              "Wind Bearing (degrees)        0\n",
              "Visibility (km)               0\n",
              "Loud Cover                    0\n",
              "Pressure (millibars)          0\n",
              "Daily Summary                 0\n",
              "dtype: int64"
            ]
          },
          "metadata": {},
          "execution_count": 42
        }
      ]
    },
    {
      "cell_type": "code",
      "metadata": {
        "colab": {
          "base_uri": "https://localhost:8080/"
        },
        "id": "PManJTp1q-4c",
        "outputId": "edb4f8d6-cf5e-42d9-9bc5-bedae8ef84e9"
      },
      "source": [
        "df.groupby('Precip Type')['Precip Type'].count()"
      ],
      "execution_count": 43,
      "outputs": [
        {
          "output_type": "execute_result",
          "data": {
            "text/plain": [
              "Precip Type\n",
              "rain    85224\n",
              "snow    10712\n",
              "Name: Precip Type, dtype: int64"
            ]
          },
          "metadata": {},
          "execution_count": 43
        }
      ]
    },
    {
      "cell_type": "code",
      "metadata": {
        "colab": {
          "base_uri": "https://localhost:8080/"
        },
        "id": "9Pn1SV25rxrC",
        "outputId": "dc2532f6-cdfa-476e-ecde-243d6fd1df62"
      },
      "source": [
        "df.groupby('Precip Type', dropna=False)['Precip Type'].count()"
      ],
      "execution_count": 44,
      "outputs": [
        {
          "output_type": "execute_result",
          "data": {
            "text/plain": [
              "Precip Type\n",
              "rain    85224\n",
              "snow    10712\n",
              "NaN         0\n",
              "Name: Precip Type, dtype: int64"
            ]
          },
          "metadata": {},
          "execution_count": 44
        }
      ]
    },
    {
      "cell_type": "markdown",
      "metadata": {
        "id": "tZgPTmNEoj4F"
      },
      "source": [
        "## Preprocessing\n",
        "\n",
        "1. There are a small number of NAs in \"Precip Type\"; we will drop all the NAs\n",
        "2. We won't need the following fields, we will drop them: 'Formatted Date', 'Summary', 'Daily Summary'\n",
        "3. We will convert 'Precip Type' to dummy variables. Note that we've used `drop_first=True` so we won't have to drop one of the categories"
      ]
    },
    {
      "cell_type": "code",
      "metadata": {
        "id": "vZoqajiDoj4F",
        "colab": {
          "base_uri": "https://localhost:8080/"
        },
        "outputId": "53872bc8-fdc6-4cdb-a3e3-39686d2225a3"
      },
      "source": [
        "df = df.dropna()\n",
        "df = df.drop(['Formatted Date','Summary','Daily Summary'], axis=1)\n",
        "df = pd.get_dummies(df, ['Precip Type'], drop_first=True)\n",
        "df.info()"
      ],
      "execution_count": 45,
      "outputs": [
        {
          "output_type": "stream",
          "name": "stdout",
          "text": [
            "<class 'pandas.core.frame.DataFrame'>\n",
            "Int64Index: 95936 entries, 0 to 96452\n",
            "Data columns (total 9 columns):\n",
            " #   Column                    Non-Null Count  Dtype  \n",
            "---  ------                    --------------  -----  \n",
            " 0   Temperature (C)           95936 non-null  float64\n",
            " 1   Apparent Temperature (C)  95936 non-null  float64\n",
            " 2   Humidity                  95936 non-null  float64\n",
            " 3   Wind Speed (km/h)         95936 non-null  float64\n",
            " 4   Wind Bearing (degrees)    95936 non-null  float64\n",
            " 5   Visibility (km)           95936 non-null  float64\n",
            " 6   Loud Cover                95936 non-null  float64\n",
            " 7   Pressure (millibars)      95936 non-null  float64\n",
            " 8   Precip Type_snow          95936 non-null  uint8  \n",
            "dtypes: float64(8), uint8(1)\n",
            "memory usage: 6.7 MB\n"
          ]
        }
      ]
    },
    {
      "cell_type": "markdown",
      "metadata": {
        "id": "OQMFhVxHoj4G"
      },
      "source": [
        "Create a feature DataFrame called `X`; our target variable is 'Apparent Temperature (C)' and that's what we need to exclude in the feature DataFrame:"
      ]
    },
    {
      "cell_type": "code",
      "metadata": {
        "id": "K1itYw66oj4G",
        "colab": {
          "base_uri": "https://localhost:8080/"
        },
        "outputId": "0f266b77-94f0-460f-f612-b70444c33b9a"
      },
      "source": [
        "# Your answer goes here\n",
        "X = df.drop('Apparent Temperature (C)', axis=1)\n",
        "X.shape"
      ],
      "execution_count": 46,
      "outputs": [
        {
          "output_type": "execute_result",
          "data": {
            "text/plain": [
              "(95936, 8)"
            ]
          },
          "metadata": {},
          "execution_count": 46
        }
      ]
    },
    {
      "cell_type": "code",
      "metadata": {
        "id": "CfpZGea4oj4G"
      },
      "source": [
        "# Don't run this cell to keep the outcome as your frame of reference"
      ],
      "execution_count": 28,
      "outputs": []
    },
    {
      "cell_type": "code",
      "metadata": {
        "id": "2MffgECkoj4G",
        "colab": {
          "base_uri": "https://localhost:8080/"
        },
        "outputId": "b23a43f4-fe0b-4901-9d59-6a085a8aa584"
      },
      "source": [
        "# SOLUTION: Uncomment and execute the line below to get help\n",
        "disp(hint + '11-03-X')"
      ],
      "execution_count": 14,
      "outputs": [
        {
          "output_type": "execute_result",
          "data": {
            "text/plain": [
              "X = df.drop('Apparent Temperature (C)', axis=1)\n",
              "X.shape\n"
            ]
          },
          "metadata": {},
          "execution_count": 14
        }
      ]
    },
    {
      "cell_type": "markdown",
      "metadata": {
        "id": "TxZVixYDoj4G"
      },
      "source": [
        "Create a target vector with 'Apparent Temperature (C)' and call it `y`:"
      ]
    },
    {
      "cell_type": "code",
      "metadata": {
        "id": "aKIdS0LToj4G",
        "colab": {
          "base_uri": "https://localhost:8080/"
        },
        "outputId": "d4a974b7-9505-470d-c6ea-227c5470dd99"
      },
      "source": [
        "# Your answer goes here\n",
        "y = df['Apparent Temperature (C)']\n",
        "y.shape"
      ],
      "execution_count": 47,
      "outputs": [
        {
          "output_type": "execute_result",
          "data": {
            "text/plain": [
              "(95936,)"
            ]
          },
          "metadata": {},
          "execution_count": 47
        }
      ]
    },
    {
      "cell_type": "code",
      "metadata": {
        "id": "ZrH9xHQqoj4G",
        "outputId": "6d58f212-4b42-40bb-869f-c91591dfacf2"
      },
      "source": [
        "# Don't run this cell to keep the outcome as your frame of reference"
      ],
      "execution_count": null,
      "outputs": [
        {
          "data": {
            "text/plain": [
              "(95936,)"
            ]
          },
          "execution_count": 8,
          "metadata": {},
          "output_type": "execute_result"
        }
      ]
    },
    {
      "cell_type": "code",
      "metadata": {
        "id": "2i3fW7h4oj4G",
        "colab": {
          "base_uri": "https://localhost:8080/"
        },
        "outputId": "93890a01-9128-4694-d3e4-e88faab167aa"
      },
      "source": [
        "# SOLUTION: Uncomment and execute the line below to get help\n",
        "disp(hint + '11-03-y')"
      ],
      "execution_count": 16,
      "outputs": [
        {
          "output_type": "execute_result",
          "data": {
            "text/plain": [
              "y = df['Apparent Temperature (C)']\n",
              "y.shape\n"
            ]
          },
          "metadata": {},
          "execution_count": 16
        }
      ]
    },
    {
      "cell_type": "markdown",
      "metadata": {
        "id": "Npa3il8foj4H"
      },
      "source": [
        "We would like to evaluate the model on data it has not seen before, and so we will split the data into a training set and a testing set. Use a 30% split for test. You can use seed value 833 if you would like to get similar values as this notebook:"
      ]
    },
    {
      "cell_type": "code",
      "metadata": {
        "id": "waiJJLDkoj4H"
      },
      "source": [
        "# Your answer goes here\n",
        "from sklearn.model_selection import train_test_split\n",
        "Xtrain, Xtest, ytrain, ytest = train_test_split(X, y, test_size=0.3, random_state=833)"
      ],
      "execution_count": 48,
      "outputs": []
    },
    {
      "cell_type": "code",
      "metadata": {
        "id": "kBpR95N9oj4H",
        "colab": {
          "base_uri": "https://localhost:8080/"
        },
        "outputId": "436a4ac8-3dff-4bd3-ee8d-9993c364cbdb"
      },
      "source": [
        "# SOLUTION: Uncomment and execute the line below to get help\n",
        "disp(hint + '11-03-split')"
      ],
      "execution_count": 18,
      "outputs": [
        {
          "output_type": "execute_result",
          "data": {
            "text/plain": [
              "from sklearn.model_selection import train_test_split\n",
              "Xtrain, Xtest, ytrain, ytest = train_test_split(X, y, test_size=0.3, random_state=833)\n"
            ]
          },
          "metadata": {},
          "execution_count": 18
        }
      ]
    },
    {
      "cell_type": "code",
      "metadata": {
        "id": "36wFnAGboj4H",
        "colab": {
          "base_uri": "https://localhost:8080/"
        },
        "outputId": "2c6dab85-f3cd-4042-b2a7-e153adeabd09"
      },
      "source": [
        "print(\"Xtrain shape:\", Xtrain.shape)\n",
        "print(\"Xtest shape:\", Xtest.shape)"
      ],
      "execution_count": 49,
      "outputs": [
        {
          "output_type": "stream",
          "name": "stdout",
          "text": [
            "Xtrain shape: (67155, 8)\n",
            "Xtest shape: (28781, 8)\n"
          ]
        }
      ]
    },
    {
      "cell_type": "markdown",
      "metadata": {
        "id": "TLq5_XVzoj4H"
      },
      "source": [
        "With the data arranged, we can follow our recipe to predict the labels:\n",
        "\n",
        "First, instantiate a simple linear regrssion model. You would first need to import `LinearRegression`; it can be found under the `linear_model` module in `sklearn`. Call this model: `model`.\n",
        "\n",
        "We will instantiate the model with all the default parameters:"
      ]
    },
    {
      "cell_type": "code",
      "metadata": {
        "id": "0EN5_hEmoj4H"
      },
      "source": [
        "# Your answer goes here\n",
        "from sklearn.linear_model import LinearRegression\n",
        "model = LinearRegression()"
      ],
      "execution_count": 50,
      "outputs": []
    },
    {
      "cell_type": "code",
      "metadata": {
        "id": "yw3xIZ7ioj4H",
        "colab": {
          "base_uri": "https://localhost:8080/"
        },
        "outputId": "f3cc913c-8f10-4e90-aab4-30bea120bfb9"
      },
      "source": [
        "# SOLUTION: Uncomment and execute the line below to get help\n",
        "disp(hint + '11-03-model')"
      ],
      "execution_count": 23,
      "outputs": [
        {
          "output_type": "execute_result",
          "data": {
            "text/plain": [
              "from sklearn.linear_model import LinearRegression\n",
              "model = LinearRegression()\n"
            ]
          },
          "metadata": {},
          "execution_count": 23
        }
      ]
    },
    {
      "cell_type": "markdown",
      "metadata": {
        "id": "80XvTdHloj4H"
      },
      "source": [
        "Fit model to the training data:"
      ]
    },
    {
      "cell_type": "code",
      "metadata": {
        "id": "VSk1ljTjoj4H",
        "colab": {
          "base_uri": "https://localhost:8080/"
        },
        "outputId": "2343202c-c4d3-4434-e299-6b83cbd6a2ec"
      },
      "source": [
        "# Your answer goes here\n",
        "model.fit(Xtrain, ytrain)"
      ],
      "execution_count": 51,
      "outputs": [
        {
          "output_type": "execute_result",
          "data": {
            "text/plain": [
              "LinearRegression(copy_X=True, fit_intercept=True, n_jobs=None, normalize=False)"
            ]
          },
          "metadata": {},
          "execution_count": 51
        }
      ]
    },
    {
      "cell_type": "code",
      "metadata": {
        "id": "V4rRaMQmoj4H",
        "colab": {
          "base_uri": "https://localhost:8080/"
        },
        "outputId": "6a075732-42ef-4e5e-e750-d303b30a3637"
      },
      "source": [
        "# SOLUTION: Uncomment and execute the line below to get help\n",
        "disp(hint + '11-03-fit')"
      ],
      "execution_count": 25,
      "outputs": [
        {
          "output_type": "execute_result",
          "data": {
            "text/plain": [
              "model.fit(Xtrain, ytrain)\n"
            ]
          },
          "metadata": {},
          "execution_count": 25
        }
      ]
    },
    {
      "cell_type": "code",
      "metadata": {
        "colab": {
          "base_uri": "https://localhost:8080/"
        },
        "id": "QROw4iiIzslL",
        "outputId": "d15c02ba-3970-436e-e813-c37f9439579a"
      },
      "source": [
        "print(\"Model coefficients:    \", model.coef_)\n",
        "print(\"Model intercept:\", model.intercept_)"
      ],
      "execution_count": 52,
      "outputs": [
        {
          "output_type": "stream",
          "name": "stdout",
          "text": [
            "Model coefficients:     [ 1.11498595e+00  8.15312898e-01 -9.83346648e-02  5.64326715e-04\n",
            " -5.12608024e-03  2.77555756e-16  2.53644730e-04 -4.52137379e-01]\n",
            "Model intercept: -2.246457802141938\n"
          ]
        }
      ]
    },
    {
      "cell_type": "code",
      "metadata": {
        "id": "pFo13hoSoj4H",
        "outputId": "df78332d-28ba-4abd-9aba-f3509f182d89"
      },
      "source": [
        "print(\"Model coefficients:    \", model.coef_)\n",
        "print(\"Model intercept:\", model.intercept_)"
      ],
      "execution_count": null,
      "outputs": [
        {
          "name": "stdout",
          "output_type": "stream",
          "text": [
            "Model coefficients:     [ 1.11565853e+00  8.43631997e-01 -9.80472871e-02  5.29095002e-04\n",
            " -5.33170597e-03  5.55111512e-17  2.09416631e-04 -4.42331175e-01]\n",
            "Model intercept: -2.2247132304198214\n"
          ]
        }
      ]
    },
    {
      "cell_type": "markdown",
      "metadata": {
        "id": "i_R6ke8voj4H"
      },
      "source": [
        "predict on new (test) data and store the results as `y_model`:"
      ]
    },
    {
      "cell_type": "code",
      "metadata": {
        "id": "GM0ZGay2oj4H"
      },
      "source": [
        "# Your answer goes here\n",
        "y_model = model.predict(Xtest)"
      ],
      "execution_count": 53,
      "outputs": []
    },
    {
      "cell_type": "code",
      "metadata": {
        "id": "JHqsaSl7oj4H",
        "colab": {
          "base_uri": "https://localhost:8080/"
        },
        "outputId": "8d9135ed-fa5b-496c-8440-572df257ed13"
      },
      "source": [
        "# SOLUTION: Uncomment and execute the line below to get help\n",
        "disp(hint + '11-03-predict')"
      ],
      "execution_count": 35,
      "outputs": [
        {
          "output_type": "execute_result",
          "data": {
            "text/plain": [
              "y_model = model.predict(Xtest)\n"
            ]
          },
          "metadata": {},
          "execution_count": 35
        }
      ]
    },
    {
      "cell_type": "markdown",
      "metadata": {
        "id": "Xd-3h9_5oj4I"
      },
      "source": [
        "Now that our predictions are ready we can merge them along with the ground truth, our 'Apparent Temperature (C)' field, to the test features and visually inspect our model performance:"
      ]
    },
    {
      "cell_type": "code",
      "metadata": {
        "id": "modYc60Boj4I",
        "colab": {
          "base_uri": "https://localhost:8080/",
          "height": 241
        },
        "outputId": "e2be9708-7e56-422e-d0a0-958e84e902b3"
      },
      "source": [
        "test = Xtest.join(ytest).reset_index()\n",
        "test.join(pd.Series(y_model, name='predicted')).head()"
      ],
      "execution_count": 54,
      "outputs": [
        {
          "output_type": "execute_result",
          "data": {
            "text/html": [
              "<div>\n",
              "<style scoped>\n",
              "    .dataframe tbody tr th:only-of-type {\n",
              "        vertical-align: middle;\n",
              "    }\n",
              "\n",
              "    .dataframe tbody tr th {\n",
              "        vertical-align: top;\n",
              "    }\n",
              "\n",
              "    .dataframe thead th {\n",
              "        text-align: right;\n",
              "    }\n",
              "</style>\n",
              "<table border=\"1\" class=\"dataframe\">\n",
              "  <thead>\n",
              "    <tr style=\"text-align: right;\">\n",
              "      <th></th>\n",
              "      <th>index</th>\n",
              "      <th>Temperature (C)</th>\n",
              "      <th>Humidity</th>\n",
              "      <th>Wind Speed (km/h)</th>\n",
              "      <th>Wind Bearing (degrees)</th>\n",
              "      <th>Visibility (km)</th>\n",
              "      <th>Loud Cover</th>\n",
              "      <th>Pressure (millibars)</th>\n",
              "      <th>Precip Type_snow</th>\n",
              "      <th>Apparent Temperature (C)</th>\n",
              "      <th>predicted</th>\n",
              "    </tr>\n",
              "  </thead>\n",
              "  <tbody>\n",
              "    <tr>\n",
              "      <th>0</th>\n",
              "      <td>34226</td>\n",
              "      <td>8.961111</td>\n",
              "      <td>0.86</td>\n",
              "      <td>0.0000</td>\n",
              "      <td>0.0</td>\n",
              "      <td>9.9820</td>\n",
              "      <td>0.0</td>\n",
              "      <td>1017.88</td>\n",
              "      <td>0</td>\n",
              "      <td>8.961111</td>\n",
              "      <td>8.653236</td>\n",
              "    </tr>\n",
              "    <tr>\n",
              "      <th>1</th>\n",
              "      <td>8809</td>\n",
              "      <td>7.711111</td>\n",
              "      <td>0.71</td>\n",
              "      <td>3.1878</td>\n",
              "      <td>232.0</td>\n",
              "      <td>15.8263</td>\n",
              "      <td>0.0</td>\n",
              "      <td>1017.13</td>\n",
              "      <td>0</td>\n",
              "      <td>7.711111</td>\n",
              "      <td>6.924510</td>\n",
              "    </tr>\n",
              "    <tr>\n",
              "      <th>2</th>\n",
              "      <td>22702</td>\n",
              "      <td>7.483333</td>\n",
              "      <td>0.74</td>\n",
              "      <td>10.9963</td>\n",
              "      <td>173.0</td>\n",
              "      <td>14.9569</td>\n",
              "      <td>0.0</td>\n",
              "      <td>1005.66</td>\n",
              "      <td>0</td>\n",
              "      <td>5.455556</td>\n",
              "      <td>5.895406</td>\n",
              "    </tr>\n",
              "    <tr>\n",
              "      <th>3</th>\n",
              "      <td>38626</td>\n",
              "      <td>2.044444</td>\n",
              "      <td>0.86</td>\n",
              "      <td>15.9229</td>\n",
              "      <td>160.0</td>\n",
              "      <td>10.7226</td>\n",
              "      <td>0.0</td>\n",
              "      <td>1000.24</td>\n",
              "      <td>0</td>\n",
              "      <td>-2.033333</td>\n",
              "      <td>-0.542502</td>\n",
              "    </tr>\n",
              "    <tr>\n",
              "      <th>4</th>\n",
              "      <td>94118</td>\n",
              "      <td>25.044444</td>\n",
              "      <td>0.39</td>\n",
              "      <td>20.0767</td>\n",
              "      <td>250.0</td>\n",
              "      <td>16.1000</td>\n",
              "      <td>0.0</td>\n",
              "      <td>1010.90</td>\n",
              "      <td>0</td>\n",
              "      <td>25.044444</td>\n",
              "      <td>24.336444</td>\n",
              "    </tr>\n",
              "  </tbody>\n",
              "</table>\n",
              "</div>"
            ],
            "text/plain": [
              "   index  Temperature (C)  ...  Apparent Temperature (C)  predicted\n",
              "0  34226         8.961111  ...                  8.961111   8.653236\n",
              "1   8809         7.711111  ...                  7.711111   6.924510\n",
              "2  22702         7.483333  ...                  5.455556   5.895406\n",
              "3  38626         2.044444  ...                 -2.033333  -0.542502\n",
              "4  94118        25.044444  ...                 25.044444  24.336444\n",
              "\n",
              "[5 rows x 11 columns]"
            ]
          },
          "metadata": {},
          "execution_count": 54
        }
      ]
    },
    {
      "cell_type": "markdown",
      "metadata": {
        "id": "6bjqvNPqoj4I"
      },
      "source": [
        "Calculating the mean absolute error:"
      ]
    },
    {
      "cell_type": "code",
      "metadata": {
        "id": "L5EZfHZkoj4I",
        "colab": {
          "base_uri": "https://localhost:8080/"
        },
        "outputId": "c3949eb2-fff5-4253-8364-0c6fb43d8164"
      },
      "source": [
        "# Is this good? \n",
        "from sklearn.metrics import mean_absolute_error\n",
        "mean_absolute_error(ytest, y_model)"
      ],
      "execution_count": 55,
      "outputs": [
        {
          "output_type": "execute_result",
          "data": {
            "text/plain": [
              "0.8394700118761536"
            ]
          },
          "metadata": {},
          "execution_count": 55
        }
      ]
    },
    {
      "cell_type": "code",
      "metadata": {
        "colab": {
          "base_uri": "https://localhost:8080/"
        },
        "id": "vy8BVnhp7GsI",
        "outputId": "00ce3706-2229-48e1-d1a4-5416efc7c48f"
      },
      "source": [
        "ytrain.mean()"
      ],
      "execution_count": 56,
      "outputs": [
        {
          "output_type": "execute_result",
          "data": {
            "text/plain": [
              "10.83077201168114"
            ]
          },
          "metadata": {},
          "execution_count": 56
        }
      ]
    },
    {
      "cell_type": "code",
      "metadata": {
        "colab": {
          "base_uri": "https://localhost:8080/"
        },
        "id": "eu_NTong7JQZ",
        "outputId": "002c8692-8fcc-4696-a0ad-cc61c084dbdd"
      },
      "source": [
        "ytest.mean()"
      ],
      "execution_count": 57,
      "outputs": [
        {
          "output_type": "execute_result",
          "data": {
            "text/plain": [
              "10.936635859305392"
            ]
          },
          "metadata": {},
          "execution_count": 57
        }
      ]
    },
    {
      "cell_type": "code",
      "metadata": {
        "colab": {
          "base_uri": "https://localhost:8080/"
        },
        "id": "MId79uBv7Lgt",
        "outputId": "0ef562bb-37d2-4e50-9c15-bc0161335f3f"
      },
      "source": [
        "ytest.shape[0]"
      ],
      "execution_count": 59,
      "outputs": [
        {
          "output_type": "execute_result",
          "data": {
            "text/plain": [
              "28781"
            ]
          },
          "metadata": {},
          "execution_count": 59
        }
      ]
    },
    {
      "cell_type": "code",
      "metadata": {
        "colab": {
          "base_uri": "https://localhost:8080/"
        },
        "id": "XdzbQ3QA7QQa",
        "outputId": "9d35a364-39cd-419f-ef2e-c974f504d5a6"
      },
      "source": [
        "import numpy as np\n",
        "np.repeat(ytrain.mean(), ytest.shape[0])"
      ],
      "execution_count": 60,
      "outputs": [
        {
          "output_type": "execute_result",
          "data": {
            "text/plain": [
              "array([10.83077201, 10.83077201, 10.83077201, ..., 10.83077201,\n",
              "       10.83077201, 10.83077201])"
            ]
          },
          "metadata": {},
          "execution_count": 60
        }
      ]
    },
    {
      "cell_type": "code",
      "metadata": {
        "colab": {
          "base_uri": "https://localhost:8080/"
        },
        "id": "-KbuAb7-7c_S",
        "outputId": "13071a15-71b6-496b-e036-1507e0ffe02f"
      },
      "source": [
        "#baseline: average apparent temp of the train set\n",
        "mean_absolute_error(ytest, np.repeat(ytrain.mean(), ytest.shape[0]))"
      ],
      "execution_count": 62,
      "outputs": [
        {
          "output_type": "execute_result",
          "data": {
            "text/plain": [
              "9.02358383655723"
            ]
          },
          "metadata": {},
          "execution_count": 62
        }
      ]
    },
    {
      "cell_type": "code",
      "metadata": {
        "colab": {
          "base_uri": "https://localhost:8080/"
        },
        "id": "uwWwGxt-7pJd",
        "outputId": "0037a153-8f33-43ad-ab8e-d837548ea620"
      },
      "source": [
        "#baseline: actual temp\n",
        "mean_absolute_error(ytest, Xtest['Temperature (C)'])"
      ],
      "execution_count": 63,
      "outputs": [
        {
          "output_type": "execute_result",
          "data": {
            "text/plain": [
              "1.1183236239957688"
            ]
          },
          "metadata": {},
          "execution_count": 63
        }
      ]
    }
  ]
}