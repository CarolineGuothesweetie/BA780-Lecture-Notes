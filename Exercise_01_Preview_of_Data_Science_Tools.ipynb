{
  "nbformat": 4,
  "nbformat_minor": 0,
  "metadata": {
    "kernelspec": {
      "display_name": "Python 3",
      "language": "python",
      "name": "python3"
    },
    "language_info": {
      "codemirror_mode": {
        "name": "ipython",
        "version": 3
      },
      "file_extension": ".py",
      "mimetype": "text/x-python",
      "name": "python",
      "nbconvert_exporter": "python",
      "pygments_lexer": "ipython3",
      "version": "3.7.2"
    },
    "colab": {
      "name": "Exercise-01-Preview-of-Data-Science-Tools.ipynb",
      "provenance": [],
      "include_colab_link": true
    }
  },
  "cells": [
    {
      "cell_type": "markdown",
      "metadata": {
        "id": "view-in-github",
        "colab_type": "text"
      },
      "source": [
        "<a href=\"https://colab.research.google.com/github/CarolineGuothesweetie/BA780-Lecture-Notes/blob/main/Exercise_01_Preview_of_Data_Science_Tools.ipynb\" target=\"_parent\"><img src=\"https://colab.research.google.com/assets/colab-badge.svg\" alt=\"Open In Colab\"/></a>"
      ]
    },
    {
      "cell_type": "markdown",
      "metadata": {
        "id": "8eNNG08p6b79"
      },
      "source": [
        "# Exercise - A Preview of Data Science Tools\n",
        "In the following cell two lists of weight (in lbs) and height (in inches) of 6 basketball players are given:"
      ]
    },
    {
      "cell_type": "code",
      "metadata": {
        "id": "ucRxc0wL6b8A"
      },
      "source": [
        "height_in = [73, 74, 71, 75, 74, 72, 70, 71, 68, 69, 72, 71]\n",
        "weight_lb = [170 , 215, 210 , 204, 189, 195, 190, 194, 200, 178, 199, 202]"
      ],
      "execution_count": 3,
      "outputs": []
    },
    {
      "cell_type": "markdown",
      "metadata": {
        "id": "nPTCxCWc6b8C"
      },
      "source": [
        "Import the numpy package as np"
      ]
    },
    {
      "cell_type": "code",
      "metadata": {
        "id": "HvdPAE556b8D"
      },
      "source": [
        "# Your answer goes here\n",
        "import numpy as np"
      ],
      "execution_count": 4,
      "outputs": []
    },
    {
      "cell_type": "markdown",
      "metadata": {
        "id": "NDXtHcbo6b8D"
      },
      "source": [
        "Create 2 numpy arrays, `np_height_in` & `np_weight_lb`, from height and weight. Hint: one can make a numpy array from a python list, L, by `np.array(L)`."
      ]
    },
    {
      "cell_type": "code",
      "metadata": {
        "id": "uCKNL69f6b8E",
        "colab": {
          "base_uri": "https://localhost:8080/"
        },
        "outputId": "d373603f-add2-47af-8eb0-ea1e64d2f73e"
      },
      "source": [
        "# Your answer goes here\n",
        "np_height_in = np.array(height_in)\n",
        "np_weight_lb = np.array(weight_lb)\n",
        "np_weight_lb"
      ],
      "execution_count": 10,
      "outputs": [
        {
          "output_type": "execute_result",
          "data": {
            "text/plain": [
              "array([170, 215, 210, 204, 189, 195, 190, 194, 200, 178, 199, 202])"
            ]
          },
          "metadata": {},
          "execution_count": 10
        }
      ]
    },
    {
      "cell_type": "markdown",
      "metadata": {
        "id": "3RPkeC3z6b8E"
      },
      "source": [
        "Checkout the type of np_weight_lb:"
      ]
    },
    {
      "cell_type": "code",
      "metadata": {
        "id": "ktPWdgIx6b8F",
        "colab": {
          "base_uri": "https://localhost:8080/"
        },
        "outputId": "fdcb0732-c97c-4a6f-ff09-f31a07215413"
      },
      "source": [
        "# Your answer goes here\n",
        "type(np_weight_lb)"
      ],
      "execution_count": 8,
      "outputs": [
        {
          "output_type": "execute_result",
          "data": {
            "text/plain": [
              "numpy.ndarray"
            ]
          },
          "metadata": {},
          "execution_count": 8
        }
      ]
    },
    {
      "cell_type": "markdown",
      "metadata": {
        "id": "bvgrmcs16b8H"
      },
      "source": [
        "This is how `np_weight_lb` will look like after the conversion:"
      ]
    },
    {
      "cell_type": "code",
      "metadata": {
        "id": "FPpIeFFE6b8I",
        "colab": {
          "base_uri": "https://localhost:8080/"
        },
        "outputId": "711cc4c0-9d73-4fb3-fdc6-ce03d4880b14"
      },
      "source": [
        "np_weight_lb"
      ],
      "execution_count": 9,
      "outputs": [
        {
          "output_type": "execute_result",
          "data": {
            "text/plain": [
              "array([170, 215, 210, 204, 189, 195, 190, 194, 200, 178, 199, 202])"
            ]
          },
          "metadata": {},
          "execution_count": 9
        }
      ]
    },
    {
      "cell_type": "markdown",
      "metadata": {
        "id": "21Repj8U6b8J"
      },
      "source": [
        "Convert `np_height_in` to meters and call it `np_height_m`, then print it. Hint: Use the formula $height(m) = height(in) * 2.54\\  /\\  100$."
      ]
    },
    {
      "cell_type": "code",
      "metadata": {
        "id": "EPIEYt-p6b8J",
        "colab": {
          "base_uri": "https://localhost:8080/"
        },
        "outputId": "f6c2ace0-d304-4c1c-de1e-6dcbdb460e97"
      },
      "source": [
        "# Your answer goes here\n",
        "np_height_m = np_height_in * 2.54 / 100\n",
        "np_height_m"
      ],
      "execution_count": 12,
      "outputs": [
        {
          "output_type": "execute_result",
          "data": {
            "text/plain": [
              "array([1.8542, 1.8796, 1.8034, 1.905 , 1.8796, 1.8288, 1.778 , 1.8034,\n",
              "       1.7272, 1.7526, 1.8288, 1.8034])"
            ]
          },
          "metadata": {},
          "execution_count": 12
        }
      ]
    },
    {
      "cell_type": "markdown",
      "metadata": {
        "id": "6h5pcbHh6b8K"
      },
      "source": [
        "Convert `np_weight_lb` to Kgs and call it `np_weight_kg`, then print it. Hint: Use the formula $weight(kg) = weight(lb) \\ /\\  2.2$."
      ]
    },
    {
      "cell_type": "code",
      "metadata": {
        "id": "QESuxJ366b8K",
        "colab": {
          "base_uri": "https://localhost:8080/"
        },
        "outputId": "5d5b9aa5-d87e-4b5b-9ff8-6d8a4a67ef97"
      },
      "source": [
        "# Your answer goes here\n",
        "np_weight_kg = np_weight_lb / 2.2\n",
        "np_weight_kg"
      ],
      "execution_count": 13,
      "outputs": [
        {
          "output_type": "execute_result",
          "data": {
            "text/plain": [
              "array([77.27272727, 97.72727273, 95.45454545, 92.72727273, 85.90909091,\n",
              "       88.63636364, 86.36363636, 88.18181818, 90.90909091, 80.90909091,\n",
              "       90.45454545, 91.81818182])"
            ]
          },
          "metadata": {},
          "execution_count": 13
        }
      ]
    },
    {
      "cell_type": "markdown",
      "metadata": {
        "id": "KqWCimYV6b8K"
      },
      "source": [
        "Using `np_weight_kg` and `np_height_m` create a simple scatter plot. \n",
        "Hint: to do this you have several options, here are two of them: 1) use `plt.plot(x, y, 'o')`. The option 'o' here creates a scatter plot with circles; checkout help `plt.plot?` to find out about other symbols. 2) use `plt.scatter(x, y)` function."
      ]
    },
    {
      "cell_type": "code",
      "metadata": {
        "id": "6D4_erbk8FjE"
      },
      "source": [
        "%matplotlib inline\n",
        "import matplotlib.pyplot as plt\n",
        "plt.style.use('ggplot') "
      ],
      "execution_count": 14,
      "outputs": []
    },
    {
      "cell_type": "code",
      "metadata": {
        "id": "cL3mdJQh6b8L",
        "colab": {
          "base_uri": "https://localhost:8080/",
          "height": 282
        },
        "outputId": "f7bf0410-27b0-444d-eb50-db158a7c8952"
      },
      "source": [
        "# Your answer goes here\n",
        "plt.plot(np_weight_kg, np_height_m, 'o')"
      ],
      "execution_count": 15,
      "outputs": [
        {
          "output_type": "execute_result",
          "data": {
            "text/plain": [
              "[<matplotlib.lines.Line2D at 0x7f30d7994b50>]"
            ]
          },
          "metadata": {},
          "execution_count": 15
        },
        {
          "output_type": "display_data",
          "data": {
            "image/png": "[encoded data removed]",
            "text/plain": [
              "<Figure size 432x288 with 1 Axes>"
            ]
          },
          "metadata": {}
        }
      ]
    },
    {
      "cell_type": "markdown",
      "metadata": {
        "id": "DfdIk-_u6b8L"
      },
      "source": [
        "Now try to use the second option. But this time also use `plt.xlabel(\"X-label\")` & ``plt.ylabel(\"Y-label\")`` to give the axis appropriate names:"
      ]
    },
    {
      "cell_type": "code",
      "metadata": {
        "colab": {
          "base_uri": "https://localhost:8080/",
          "height": 299
        },
        "id": "UywLq60R8SVX",
        "outputId": "1acf172e-8e1e-4b64-920c-2117ea600873"
      },
      "source": [
        "plt.scatter(np_weight_kg, np_height_m)\n",
        "plt.xlabel(\"Weight(kg)\")\n",
        "plt.ylabel(\"Height(m)\")"
      ],
      "execution_count": 18,
      "outputs": [
        {
          "output_type": "execute_result",
          "data": {
            "text/plain": [
              "Text(0, 0.5, 'Height(m)')"
            ]
          },
          "metadata": {},
          "execution_count": 18
        },
        {
          "output_type": "display_data",
          "data": {
            "image/png": "[encoded data removed]",
            "text/plain": [
              "<Figure size 432x288 with 1 Axes>"
            ]
          },
          "metadata": {}
        }
      ]
    },
    {
      "cell_type": "code",
      "metadata": {
        "id": "Rcu-hKoN6b8L",
        "outputId": "1d3649bb-5af8-49b9-ca72-0be5a40cd183"
      },
      "source": [
        "# Your answer goes here\n"
      ],
      "execution_count": null,
      "outputs": [
        {
          "data": {
            "text/plain": [
              "Text(0, 0.5, 'Height(m)')"
            ]
          },
          "execution_count": 9,
          "metadata": {},
          "output_type": "execute_result"
        },
        {
          "data": {
            "image/png": "[encoded data removed]",
            "text/plain": [
              "<Figure size 432x288 with 1 Axes>"
            ]
          },
          "metadata": {
            "needs_background": "light"
          },
          "output_type": "display_data"
        }
      ]
    },
    {
      "cell_type": "markdown",
      "metadata": {
        "id": "6YlonlfE6b8M"
      },
      "source": [
        "Calculate bmi and call it `bmi`, round it to 2 digits and print it. Hint: $bmi = weight(kg)\\  /\\  height ^ 2(m)$."
      ]
    },
    {
      "cell_type": "code",
      "metadata": {
        "colab": {
          "base_uri": "https://localhost:8080/"
        },
        "id": "HIJ0gDSp84J6",
        "outputId": "705dea8a-0acd-4043-99b9-d8d3a4f1562b"
      },
      "source": [
        "bmi = np_weight_kg / np_height_m ** 2\n",
        "np.round(bmi, 0)"
      ],
      "execution_count": 22,
      "outputs": [
        {
          "output_type": "execute_result",
          "data": {
            "text/plain": [
              "array([22., 28., 29., 26., 24., 27., 27., 27., 30., 26., 27., 28.])"
            ]
          },
          "metadata": {},
          "execution_count": 22
        }
      ]
    },
    {
      "cell_type": "code",
      "metadata": {
        "id": "NuUmtcJR6b8M",
        "outputId": "844aff41-3259-4930-e095-70728391b9b1"
      },
      "source": [
        "# Your answer goes here\n"
      ],
      "execution_count": null,
      "outputs": [
        {
          "name": "stdout",
          "output_type": "stream",
          "text": [
            "[22. 28. 29. 26. 24. 27. 27. 27. 30. 26. 27. 28.]\n"
          ]
        }
      ]
    },
    {
      "cell_type": "markdown",
      "metadata": {
        "id": "6tpCOHtK6b8M"
      },
      "source": [
        "Checkout the type of `bmi`:"
      ]
    },
    {
      "cell_type": "code",
      "metadata": {
        "id": "oZG2G7Ev6b8N",
        "colab": {
          "base_uri": "https://localhost:8080/"
        },
        "outputId": "85aaffc1-7819-472f-84ba-2ca0af2ab480"
      },
      "source": [
        "# Your answer goes here\n",
        "type(bmi)"
      ],
      "execution_count": 23,
      "outputs": [
        {
          "output_type": "execute_result",
          "data": {
            "text/plain": [
              "numpy.ndarray"
            ]
          },
          "metadata": {},
          "execution_count": 23
        }
      ]
    },
    {
      "cell_type": "markdown",
      "metadata": {
        "id": "5xmM3L9_6b8N"
      },
      "source": [
        "Create a Pandas dafaframe from np_weight_kg, np_height_m, bmi with the column names `weight`, `height`, `bmi`. Call this dataframe `players`:"
      ]
    },
    {
      "cell_type": "code",
      "metadata": {
        "colab": {
          "base_uri": "https://localhost:8080/",
          "height": 421
        },
        "id": "xW2IQjyw9jpo",
        "outputId": "1d87227f-818e-4188-ef92-5802378acd85"
      },
      "source": [
        "import pandas as pd\n",
        "players = pd.DataFrame({'weight': np_weight_kg, 'height':np_height_m, 'bmi' : bmi}) \n",
        "players"
      ],
      "execution_count": 33,
      "outputs": [
        {
          "output_type": "execute_result",
          "data": {
            "text/html": [
              "<div>\n",
              "<style scoped>\n",
              "    .dataframe tbody tr th:only-of-type {\n",
              "        vertical-align: middle;\n",
              "    }\n",
              "\n",
              "    .dataframe tbody tr th {\n",
              "        vertical-align: top;\n",
              "    }\n",
              "\n",
              "    .dataframe thead th {\n",
              "        text-align: right;\n",
              "    }\n",
              "</style>\n",
              "<table border=\"1\" class=\"dataframe\">\n",
              "  <thead>\n",
              "    <tr style=\"text-align: right;\">\n",
              "      <th></th>\n",
              "      <th>weight</th>\n",
              "      <th>height</th>\n",
              "      <th>bmi</th>\n",
              "    </tr>\n",
              "  </thead>\n",
              "  <tbody>\n",
              "    <tr>\n",
              "      <th>0</th>\n",
              "      <td>77.272727</td>\n",
              "      <td>1.8542</td>\n",
              "      <td>22.475693</td>\n",
              "    </tr>\n",
              "    <tr>\n",
              "      <th>1</th>\n",
              "      <td>97.727273</td>\n",
              "      <td>1.8796</td>\n",
              "      <td>27.662085</td>\n",
              "    </tr>\n",
              "    <tr>\n",
              "      <th>2</th>\n",
              "      <td>95.454545</td>\n",
              "      <td>1.8034</td>\n",
              "      <td>29.350296</td>\n",
              "    </tr>\n",
              "    <tr>\n",
              "      <th>3</th>\n",
              "      <td>92.727273</td>\n",
              "      <td>1.9050</td>\n",
              "      <td>25.551566</td>\n",
              "    </tr>\n",
              "    <tr>\n",
              "      <th>4</th>\n",
              "      <td>85.909091</td>\n",
              "      <td>1.8796</td>\n",
              "      <td>24.316902</td>\n",
              "    </tr>\n",
              "    <tr>\n",
              "      <th>5</th>\n",
              "      <td>88.636364</td>\n",
              "      <td>1.8288</td>\n",
              "      <td>26.502052</td>\n",
              "    </tr>\n",
              "    <tr>\n",
              "      <th>6</th>\n",
              "      <td>86.363636</td>\n",
              "      <td>1.7780</td>\n",
              "      <td>27.319164</td>\n",
              "    </tr>\n",
              "    <tr>\n",
              "      <th>7</th>\n",
              "      <td>88.181818</td>\n",
              "      <td>1.8034</td>\n",
              "      <td>27.114083</td>\n",
              "    </tr>\n",
              "    <tr>\n",
              "      <th>8</th>\n",
              "      <td>90.909091</td>\n",
              "      <td>1.7272</td>\n",
              "      <td>30.473480</td>\n",
              "    </tr>\n",
              "    <tr>\n",
              "      <th>9</th>\n",
              "      <td>80.909091</td>\n",
              "      <td>1.7526</td>\n",
              "      <td>26.340967</td>\n",
              "    </tr>\n",
              "    <tr>\n",
              "      <th>10</th>\n",
              "      <td>90.454545</td>\n",
              "      <td>1.8288</td>\n",
              "      <td>27.045684</td>\n",
              "    </tr>\n",
              "    <tr>\n",
              "      <th>11</th>\n",
              "      <td>91.818182</td>\n",
              "      <td>1.8034</td>\n",
              "      <td>28.232189</td>\n",
              "    </tr>\n",
              "  </tbody>\n",
              "</table>\n",
              "</div>"
            ],
            "text/plain": [
              "       weight  height        bmi\n",
              "0   77.272727  1.8542  22.475693\n",
              "1   97.727273  1.8796  27.662085\n",
              "2   95.454545  1.8034  29.350296\n",
              "3   92.727273  1.9050  25.551566\n",
              "4   85.909091  1.8796  24.316902\n",
              "5   88.636364  1.8288  26.502052\n",
              "6   86.363636  1.7780  27.319164\n",
              "7   88.181818  1.8034  27.114083\n",
              "8   90.909091  1.7272  30.473480\n",
              "9   80.909091  1.7526  26.340967\n",
              "10  90.454545  1.8288  27.045684\n",
              "11  91.818182  1.8034  28.232189"
            ]
          },
          "metadata": {},
          "execution_count": 33
        }
      ]
    },
    {
      "cell_type": "code",
      "metadata": {
        "id": "sAJJkDq96b8N",
        "outputId": "0837d249-fe94-4b20-d39e-ede80d0acf41"
      },
      "source": [
        "# Your answer goes here\n"
      ],
      "execution_count": null,
      "outputs": [
        {
          "data": {
            "text/html": [
              "<div>\n",
              "<style scoped>\n",
              "    .dataframe tbody tr th:only-of-type {\n",
              "        vertical-align: middle;\n",
              "    }\n",
              "\n",
              "    .dataframe tbody tr th {\n",
              "        vertical-align: top;\n",
              "    }\n",
              "\n",
              "    .dataframe thead th {\n",
              "        text-align: right;\n",
              "    }\n",
              "</style>\n",
              "<table border=\"1\" class=\"dataframe\">\n",
              "  <thead>\n",
              "    <tr style=\"text-align: right;\">\n",
              "      <th></th>\n",
              "      <th>weight</th>\n",
              "      <th>height</th>\n",
              "      <th>bmi</th>\n",
              "    </tr>\n",
              "  </thead>\n",
              "  <tbody>\n",
              "    <tr>\n",
              "      <th>0</th>\n",
              "      <td>77.272727</td>\n",
              "      <td>1.8542</td>\n",
              "      <td>22.0</td>\n",
              "    </tr>\n",
              "    <tr>\n",
              "      <th>1</th>\n",
              "      <td>97.727273</td>\n",
              "      <td>1.8796</td>\n",
              "      <td>28.0</td>\n",
              "    </tr>\n",
              "    <tr>\n",
              "      <th>2</th>\n",
              "      <td>95.454545</td>\n",
              "      <td>1.8034</td>\n",
              "      <td>29.0</td>\n",
              "    </tr>\n",
              "    <tr>\n",
              "      <th>3</th>\n",
              "      <td>92.727273</td>\n",
              "      <td>1.9050</td>\n",
              "      <td>26.0</td>\n",
              "    </tr>\n",
              "    <tr>\n",
              "      <th>4</th>\n",
              "      <td>85.909091</td>\n",
              "      <td>1.8796</td>\n",
              "      <td>24.0</td>\n",
              "    </tr>\n",
              "    <tr>\n",
              "      <th>5</th>\n",
              "      <td>88.636364</td>\n",
              "      <td>1.8288</td>\n",
              "      <td>27.0</td>\n",
              "    </tr>\n",
              "    <tr>\n",
              "      <th>6</th>\n",
              "      <td>86.363636</td>\n",
              "      <td>1.7780</td>\n",
              "      <td>27.0</td>\n",
              "    </tr>\n",
              "    <tr>\n",
              "      <th>7</th>\n",
              "      <td>88.181818</td>\n",
              "      <td>1.8034</td>\n",
              "      <td>27.0</td>\n",
              "    </tr>\n",
              "    <tr>\n",
              "      <th>8</th>\n",
              "      <td>90.909091</td>\n",
              "      <td>1.7272</td>\n",
              "      <td>30.0</td>\n",
              "    </tr>\n",
              "    <tr>\n",
              "      <th>9</th>\n",
              "      <td>80.909091</td>\n",
              "      <td>1.7526</td>\n",
              "      <td>26.0</td>\n",
              "    </tr>\n",
              "    <tr>\n",
              "      <th>10</th>\n",
              "      <td>90.454545</td>\n",
              "      <td>1.8288</td>\n",
              "      <td>27.0</td>\n",
              "    </tr>\n",
              "    <tr>\n",
              "      <th>11</th>\n",
              "      <td>91.818182</td>\n",
              "      <td>1.8034</td>\n",
              "      <td>28.0</td>\n",
              "    </tr>\n",
              "  </tbody>\n",
              "</table>\n",
              "</div>"
            ],
            "text/plain": [
              "       weight  height   bmi\n",
              "0   77.272727  1.8542  22.0\n",
              "1   97.727273  1.8796  28.0\n",
              "2   95.454545  1.8034  29.0\n",
              "3   92.727273  1.9050  26.0\n",
              "4   85.909091  1.8796  24.0\n",
              "5   88.636364  1.8288  27.0\n",
              "6   86.363636  1.7780  27.0\n",
              "7   88.181818  1.8034  27.0\n",
              "8   90.909091  1.7272  30.0\n",
              "9   80.909091  1.7526  26.0\n",
              "10  90.454545  1.8288  27.0\n",
              "11  91.818182  1.8034  28.0"
            ]
          },
          "execution_count": 12,
          "metadata": {},
          "output_type": "execute_result"
        }
      ]
    },
    {
      "cell_type": "markdown",
      "metadata": {
        "id": "v0z7cpcc6b8O"
      },
      "source": [
        "See if you can reproduce the above plot by using DataFrame method `.plot.scatter()` on `players` DataFrame:"
      ]
    },
    {
      "cell_type": "code",
      "metadata": {
        "id": "IIylvibv6b8O",
        "colab": {
          "base_uri": "https://localhost:8080/",
          "height": 299
        },
        "outputId": "59429783-8654-46f1-c3c5-8f718a4c8d11"
      },
      "source": [
        "# Your answer goes here\n",
        "players.plot.scatter('weight', 'height')"
      ],
      "execution_count": 37,
      "outputs": [
        {
          "output_type": "execute_result",
          "data": {
            "text/plain": [
              "<matplotlib.axes._subplots.AxesSubplot at 0x7f30d28a9690>"
            ]
          },
          "metadata": {},
          "execution_count": 37
        },
        {
          "output_type": "display_data",
          "data": {
            "image/png": "[encoded data removed]",
            "text/plain": [
              "<Figure size 432x288 with 1 Axes>"
            ]
          },
          "metadata": {}
        }
      ]
    },
    {
      "cell_type": "markdown",
      "metadata": {
        "id": "sb6QQfO66b8O"
      },
      "source": [
        "Now with ggplot style:"
      ]
    },
    {
      "cell_type": "code",
      "metadata": {
        "scrolled": false,
        "id": "VSoI2zVg6b8O",
        "colab": {
          "base_uri": "https://localhost:8080/",
          "height": 282
        },
        "outputId": "146b484d-45ca-42bf-cd9f-32e6b808c6ab"
      },
      "source": [
        "# Your answer goes here\n",
        "players.plot.scatter('weight', 'height')\n",
        "plt.style.use('ggplot')"
      ],
      "execution_count": 42,
      "outputs": [
        {
          "output_type": "display_data",
          "data": {
            "image/png": "[encoded data removed]",
            "text/plain": [
              "<Figure size 432x288 with 1 Axes>"
            ]
          },
          "metadata": {}
        }
      ]
    }
  ]
}